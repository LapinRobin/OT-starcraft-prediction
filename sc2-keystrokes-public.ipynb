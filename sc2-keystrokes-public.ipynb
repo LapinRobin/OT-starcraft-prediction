{
 "cells": [
  {
   "cell_type": "code",
   "execution_count": 1,
   "metadata": {
    "_cell_guid": "b1076dfc-b9ad-4769-8c92-a6c4dae69d19",
    "_uuid": "8f2839f25d086af736a60e9eeb907d3b93b6e0e5",
    "execution": {
     "iopub.execute_input": "2025-01-03T16:55:03.498148Z",
     "iopub.status.busy": "2025-01-03T16:55:03.497721Z",
     "iopub.status.idle": "2025-01-03T16:55:03.502661Z",
     "shell.execute_reply": "2025-01-03T16:55:03.501571Z",
     "shell.execute_reply.started": "2025-01-03T16:55:03.498078Z"
    },
    "trusted": true
   },
   "outputs": [],
   "source": [
    "import pandas as pd\n",
    "import numpy as np\n",
    "from typing import Optional, List, Callable, Any, Union, Dict\n",
    "from itertools import product\n",
    "from statistics import mean\n",
    "from pathlib import Path\n",
    "import gzip\n",
    "import os"
   ]
  },
  {
   "cell_type": "markdown",
   "metadata": {},
   "source": [
    "### Read datasets\n",
    "Use the gzip function is files ar gzipped"
   ]
  },
  {
   "cell_type": "code",
   "execution_count": 2,
   "metadata": {
    "execution": {
     "iopub.execute_input": "2025-01-03T16:55:03.504167Z",
     "iopub.status.busy": "2025-01-03T16:55:03.503845Z",
     "iopub.status.idle": "2025-01-03T16:55:03.523023Z",
     "shell.execute_reply": "2025-01-03T16:55:03.521924Z",
     "shell.execute_reply.started": "2025-01-03T16:55:03.504128Z"
    },
    "trusted": true
   },
   "outputs": [],
   "source": [
    "def read_ds_gzip(path: Optional[Path]=None, ds: str = \"TRAIN\") -> pd.DataFrame:\n",
    "    \"\"\"Args:\n",
    "        path (Optional[Path], optional): the path to read the dataset file. Defaults to /kaggle/input/the-insa-starcraft-2-player-prediction-challenge/{ds}.CSV.gz.\n",
    "        ds (str, optional): the part to read (TRAIN or TEST), to use when path is None. Defaults to \"TRAIN\".\n",
    "\n",
    "    Returns:\n",
    "        pd.DataFrame:\n",
    "    \"\"\"\n",
    "    with gzip.open(f'/kaggle/input/the-insa-starcraft-2-player-prediction-challenge/{ds}.CSV.gz' if path is None else path) as f:\n",
    "        max_actions = max(( len( str(c).split(\",\")) for c in f.readlines() ))\n",
    "        f.seek(0)\n",
    "        _names = [\"battleneturl\", \"played_race\"] if \"TRAIN\" in ds else [\"played_race\"]\n",
    "        _names.extend(range(max_actions - len(_names)))\n",
    "        return pd.read_csv(f, names=_names, dtype= str)\n",
    "\n",
    "def read_ds(path: Optional[Path]=None, ds: str = \"TRAIN\"):\n",
    "    \"\"\"Args:\n",
    "        path (Optional[Path], optional): the path to read the dataset file. Defaults to /kaggle/input/the-insa-starcraft-2-player-prediction-challenge/{ds}.CSV.gz.\n",
    "        ds (str, optional): the part to read (TRAIN or TEST), to use when path is None. Defaults to \"TRAIN\".\n",
    "\n",
    "    Returns:\n",
    "        pd.DataFrame:\n",
    "    \"\"\"\n",
    "    with open(f'/kaggle/input/train-sc2-keystrokes/{ds}.CSV' if path is None else path) as f:\n",
    "        max_actions = max(( len( str(c).split(\",\")) for c in f.readlines() ))\n",
    "        f.seek(0)\n",
    "        _names = [\"battleneturl\", \"played_race\"] if \"TRAIN\" in ds else [\"played_race\"]\n",
    "        _names.extend(range(max_actions - len(_names)))\n",
    "        return pd.read_csv(f, names=_names, dtype= str)"
   ]
  },
  {
   "cell_type": "code",
   "execution_count": 3,
   "metadata": {
    "execution": {
     "iopub.execute_input": "2025-01-03T16:55:03.525005Z",
     "iopub.status.busy": "2025-01-03T16:55:03.524636Z",
     "iopub.status.idle": "2025-01-03T16:55:12.650412Z",
     "shell.execute_reply": "2025-01-03T16:55:12.649188Z",
     "shell.execute_reply.started": "2025-01-03T16:55:03.524971Z"
    },
    "trusted": true
   },
   "outputs": [
    {
     "data": {
      "text/plain": [
       "((3052, 10539),\n",
       "                                         battleneturl played_race     0     1  \\\n",
       " 0  http://eu.battle.net/sc2/en/profile/4234852/1/...     Protoss  Base     s   \n",
       " 1  http://eu.battle.net/sc2/en/profile/3074362/1/...     Protoss     s  Base   \n",
       " 2  http://eu.battle.net/sc2/en/profile/4234852/1/...     Protoss  Base     s   \n",
       " 3  http://eu.battle.net/sc2/en/profile/3074362/1/...     Protoss  Base     s   \n",
       " 4  http://eu.battle.net/sc2/en/profile/4234852/1/...     Protoss  Base     s   \n",
       " \n",
       "    2     3     4  5         6         7  ... 10527 10528 10529 10530 10531  \\\n",
       " 0  s     s     s  s        t5      Base  ...   NaN   NaN   NaN   NaN   NaN   \n",
       " 1  s     s  Base  s         s      Base  ...   NaN   NaN   NaN   NaN   NaN   \n",
       " 2  s     s  Base  s  hotkey30  hotkey00  ...   NaN   NaN   NaN   NaN   NaN   \n",
       " 3  s  Base     s  s         s        t5  ...   NaN   NaN   NaN   NaN   NaN   \n",
       " 4  s     s  Base  s  hotkey30  hotkey00  ...   NaN   NaN   NaN   NaN   NaN   \n",
       " \n",
       "   10532 10533 10534 10535 10536  \n",
       " 0   NaN   NaN   NaN   NaN   NaN  \n",
       " 1   NaN   NaN   NaN   NaN   NaN  \n",
       " 2   NaN   NaN   NaN   NaN   NaN  \n",
       " 3   NaN   NaN   NaN   NaN   NaN  \n",
       " 4   NaN   NaN   NaN   NaN   NaN  \n",
       " \n",
       " [5 rows x 10539 columns])"
      ]
     },
     "execution_count": 3,
     "metadata": {},
     "output_type": "execute_result"
    }
   ],
   "source": [
    "features_train = read_ds_gzip(Path(os.path.abspath('')) / \"./TRAIN.CSV.GZ\")\n",
    "features_train.shape, features_train.head()"
   ]
  },
  {
   "cell_type": "code",
   "execution_count": 4,
   "metadata": {},
   "outputs": [
    {
     "name": "stdout",
     "output_type": "stream",
     "text": [
      "<class 'pandas.core.frame.DataFrame'>\n",
      "RangeIndex: 3052 entries, 0 to 3051\n",
      "Columns: 10539 entries, battleneturl to 10536\n",
      "dtypes: object(10539)\n",
      "memory usage: 245.4+ MB\n",
      "None\n",
      "                                             battleneturl played_race     0  \\\n",
      "count                                                3052        3052  3044   \n",
      "unique                                                200           3     4   \n",
      "top     http://kr.battle.net/sc2/en/profile/2348639/1/...     Protoss     s   \n",
      "freq                                                   58        1210  1839   \n",
      "\n",
      "           1     2     3     4     5     6     7  ...     10527     10528  \\\n",
      "count   3044  3044  3044  3044  3044  3043  3042  ...         1         1   \n",
      "unique    10    17    22    28    27    29    32  ...         1         1   \n",
      "top        s     s     s     s     s     s     s  ...  hotkey22  hotkey12   \n",
      "freq    2757  2569  1770  1610  1174  1046   888  ...         1         1   \n",
      "\n",
      "           10529     10530     10531     10532     10533     10534     10535  \\\n",
      "count          1         1         1         1         1         1         1   \n",
      "unique         1         1         1         1         1         1         1   \n",
      "top     hotkey22  hotkey12  hotkey22  hotkey12  hotkey22  hotkey42  hotkey12   \n",
      "freq           1         1         1         1         1         1         1   \n",
      "\n",
      "        10536  \n",
      "count       1  \n",
      "unique      1  \n",
      "top     t5770  \n",
      "freq        1  \n",
      "\n",
      "[4 rows x 10539 columns]\n"
     ]
    }
   ],
   "source": [
    "print(features_train.info())  # Affiche des informations sur le DataFrame\n",
    "print(features_train.describe())  # Fournit des statistiques descriptives"
   ]
  },
  {
   "cell_type": "code",
   "execution_count": 5,
   "metadata": {},
   "outputs": [
    {
     "name": "stdout",
     "output_type": "stream",
     "text": [
      "                                        battleneturl played_race     0     1  \\\n",
      "0  http://eu.battle.net/sc2/en/profile/4234852/1/...     Protoss  Base     s   \n",
      "1  http://eu.battle.net/sc2/en/profile/3074362/1/...     Protoss     s  Base   \n",
      "2  http://eu.battle.net/sc2/en/profile/4234852/1/...     Protoss  Base     s   \n",
      "3  http://eu.battle.net/sc2/en/profile/3074362/1/...     Protoss  Base     s   \n",
      "4  http://eu.battle.net/sc2/en/profile/4234852/1/...     Protoss  Base     s   \n",
      "\n",
      "   2     3     4  5         6         7  ... 10527 10528 10529 10530 10531  \\\n",
      "0  s     s     s  s        t5      Base  ...   NaN   NaN   NaN   NaN   NaN   \n",
      "1  s     s  Base  s         s      Base  ...   NaN   NaN   NaN   NaN   NaN   \n",
      "2  s     s  Base  s  hotkey30  hotkey00  ...   NaN   NaN   NaN   NaN   NaN   \n",
      "3  s  Base     s  s         s        t5  ...   NaN   NaN   NaN   NaN   NaN   \n",
      "4  s     s  Base  s  hotkey30  hotkey00  ...   NaN   NaN   NaN   NaN   NaN   \n",
      "\n",
      "  10532 10533 10534 10535 10536  \n",
      "0   NaN   NaN   NaN   NaN   NaN  \n",
      "1   NaN   NaN   NaN   NaN   NaN  \n",
      "2   NaN   NaN   NaN   NaN   NaN  \n",
      "3   NaN   NaN   NaN   NaN   NaN  \n",
      "4   NaN   NaN   NaN   NaN   NaN  \n",
      "\n",
      "[5 rows x 10539 columns]\n",
      "---------------------------------------------------\n",
      "http://eu.battle.net/sc2/en/profile/4234852/1/First/\n"
     ]
    }
   ],
   "source": [
    "print(features_train.head())\n",
    "print(\"---------------------------------------------------\")\n",
    "print(features_train.loc[0, 'battleneturl'])"
   ]
  },
  {
   "cell_type": "code",
   "execution_count": 6,
   "metadata": {},
   "outputs": [
    {
     "name": "stdout",
     "output_type": "stream",
     "text": [
      "(340, 6818)\n",
      "  played_race     0         1         2         3         4         5  \\\n",
      "0        Zerg     s         s         s  hotkey10         s  hotkey60   \n",
      "1      Terran     s  hotkey30  hotkey00        t5         s  hotkey32   \n",
      "2     Protoss  Base         s         s      Base         s  hotkey20   \n",
      "3        Zerg     s         s         s         s  hotkey20         s   \n",
      "4     Protoss  Base         s         s      Base         s  hotkey50   \n",
      "\n",
      "          6         7         8  ... 6807 6808 6809 6810 6811 6812 6813 6814  \\\n",
      "0         s  hotkey00         s  ...  NaN  NaN  NaN  NaN  NaN  NaN  NaN  NaN   \n",
      "1         s  hotkey32         s  ...  NaN  NaN  NaN  NaN  NaN  NaN  NaN  NaN   \n",
      "2  hotkey30  hotkey60  hotkey40  ...  NaN  NaN  NaN  NaN  NaN  NaN  NaN  NaN   \n",
      "3  hotkey40        t5       t10  ...  NaN  NaN  NaN  NaN  NaN  NaN  NaN  NaN   \n",
      "4  hotkey30        t5  hotkey40  ...  NaN  NaN  NaN  NaN  NaN  NaN  NaN  NaN   \n",
      "\n",
      "  6815 6816  \n",
      "0  NaN  NaN  \n",
      "1  NaN  NaN  \n",
      "2  NaN  NaN  \n",
      "3  NaN  NaN  \n",
      "4  NaN  NaN  \n",
      "\n",
      "[5 rows x 6818 columns]\n",
      "----------------------------------------------------------------------\n",
      "<class 'pandas.core.frame.DataFrame'>\n",
      "RangeIndex: 340 entries, 0 to 339\n",
      "Columns: 6818 entries, played_race to 6816\n",
      "dtypes: object(6818)\n",
      "memory usage: 17.7+ MB\n",
      "None\n",
      "       played_race    0    1    2    3    4    5    6    7    8  ...  \\\n",
      "count          340  340  340  340  340  340  340  339  339  339  ...   \n",
      "unique           3    3    9   14   17   21   22   25   24   26  ...   \n",
      "top        Protoss    s    s    s    s    s    s    s    s    s  ...   \n",
      "freq           132  200  310  291  203  169  126  108  117   94  ...   \n",
      "\n",
      "            6807 6808 6809 6810   6811 6812 6813      6814      6815   6816  \n",
      "count          2    2    2    2      2    2    2         1         1      1  \n",
      "unique         2    2    2    2      2    1    1         1         1      1  \n",
      "top     hotkey52    s    s    s  t1980    s    s  hotkey21  hotkey22  t1985  \n",
      "freq           1    1    1    1      1    2    2         1         1      1  \n",
      "\n",
      "[4 rows x 6818 columns]\n"
     ]
    }
   ],
   "source": [
    "features_test = read_ds_gzip(Path(os.path.abspath('')) / \"./TEST.CSV.GZ\", \"TEST\")\n",
    "print(features_test.shape) \n",
    "print(features_test.head())\n",
    "print(\"----------------------------------------------------------------------\")\n",
    "print(features_test.info())\n",
    "print(features_test.describe())"
   ]
  },
  {
   "cell_type": "markdown",
   "metadata": {},
   "source": [
    "### Dependent Variable\n",
    "Our dependent variable is a categorical string; we can convert it to categories codes (number) with pd.Categorical\n",
    "\n",
    "pd.Categorical doesn't directly modify the battleneturl to a number, instead it adds a cat.codes attribute to it. We can create a little function to convert the dependent variable from string to its category ID:"
   ]
  },
  {
   "cell_type": "code",
   "execution_count": 7,
   "metadata": {
    "execution": {
     "iopub.execute_input": "2025-01-03T16:55:12.652394Z",
     "iopub.status.busy": "2025-01-03T16:55:12.652048Z",
     "iopub.status.idle": "2025-01-03T16:55:12.657336Z",
     "shell.execute_reply": "2025-01-03T16:55:12.655950Z",
     "shell.execute_reply.started": "2025-01-03T16:55:12.652364Z"
    },
    "trusted": true
   },
   "outputs": [],
   "source": [
    "def to_categories(df: pd.DataFrame, col: str=\"battleneturl\") -> dict:\n",
    "    \"\"\"Convert col of df to a categorical column\"\"\"\n",
    "    df[\"battleneturl\"] = pd.Categorical(df[\"battleneturl\"])\n",
    "    code_to_url = dict(enumerate(df[col].cat.categories))\n",
    "    df[[col]] = df[[col]].apply(lambda x: x.cat.codes)\n",
    "    return code_to_url\n"
   ]
  },
  {
   "cell_type": "code",
   "execution_count": 8,
   "metadata": {},
   "outputs": [],
   "source": [
    "def my_to_categories(df: pd.DataFrame, col: str=\"battleneturl\")-> dict:\n",
    "    \"\"\"Convert col of df to a categorical column\"\"\"\n",
    "    df[\"battleneturl\"] = pd.Categorical(df[\"battleneturl\"])\n",
    "    code_to_url = dict(enumerate(df[col].cat.categories))\n",
    "    df[[col]] = df[[col]].apply(lambda x: x.cat.codes)\n",
    "    # df[[f\"{col}_code\"]] = df[[col]].apply(lambda x: x.cat.codes)# col to f\"{col}_code\" to not override\n",
    "    return code_to_url"
   ]
  },
  {
   "cell_type": "code",
   "execution_count": 9,
   "metadata": {},
   "outputs": [
    {
     "data": {
      "text/plain": [
       "'http://eu.battle.net/sc2/en/profile/4234852/1/First/'"
      ]
     },
     "execution_count": 9,
     "metadata": {},
     "output_type": "execute_result"
    }
   ],
   "source": [
    "my_features_train = features_train.copy()\n",
    "my_dict = my_to_categories(my_features_train)\n",
    "my_dict[53]"
   ]
  },
  {
   "cell_type": "markdown",
   "metadata": {},
   "source": [
    "#### Removing outliers\n",
    "YOUR IDEAS / APPROACHES HERE.\n",
    "\n"
   ]
  },
  {
   "cell_type": "code",
   "execution_count": 10,
   "metadata": {},
   "outputs": [
    {
     "data": {
      "text/plain": [
       "Index(['battleneturl',  'played_race',              0,              1,\n",
       "                    2,              3,              4,              5,\n",
       "                    6,              7,\n",
       "       ...\n",
       "                10527,          10528,          10529,          10530,\n",
       "                10531,          10532,          10533,          10534,\n",
       "                10535,          10536],\n",
       "      dtype='object', length=10539)"
      ]
     },
     "execution_count": 10,
     "metadata": {},
     "output_type": "execute_result"
    }
   ],
   "source": [
    "features_train.columns"
   ]
  },
  {
   "cell_type": "code",
   "execution_count": 11,
   "metadata": {},
   "outputs": [
    {
     "data": {
      "text/plain": [
       "((3052, 10539), (1, 10539))"
      ]
     },
     "execution_count": 11,
     "metadata": {},
     "output_type": "execute_result"
    }
   ],
   "source": [
    "# 1 row left, so there are at least one column empty for each row, players didn't finish at the same time\n",
    "df1 = features_train.dropna()\n",
    "features_train.shape, df1.shape"
   ]
  },
  {
   "cell_type": "code",
   "execution_count": 12,
   "metadata": {},
   "outputs": [
    {
     "data": {
      "image/png": "[encoded data removed]",
      "text/plain": [
       "<Figure size 1200x600 with 1 Axes>"
      ]
     },
     "metadata": {},
     "output_type": "display_data"
    },
    {
     "name": "stdout",
     "output_type": "stream",
     "text": [
      "\n",
      "Statistiques des valeurs de players:\n",
      "count                                                  3052\n",
      "unique                                                  200\n",
      "top       http://kr.battle.net/sc2/en/profile/2348639/1/...\n",
      "freq                                                     58\n",
      "Name: battleneturl, dtype: object\n"
     ]
    }
   ],
   "source": [
    "## Distribution des timestamps\n",
    "import matplotlib.pyplot as plt\n",
    "import seaborn as sns\n",
    "import pandas as pd\n",
    "\n",
    "# Extraire tous les players\n",
    "all_players = features_train['battleneturl']\n",
    "\n",
    "# Créer le graphique de distribution\n",
    "plt.figure(figsize=(12, 6))\n",
    "sns.histplot(data=all_players, bins=100, kde=True)\n",
    "plt.title('Distribution des Valeurs de Players')\n",
    "plt.xlabel('Players (string)')\n",
    "plt.ylabel('Fréquence')\n",
    "plt.show()\n",
    "\n",
    "# Afficher les statistiques récapitulatives\n",
    "print(\"\\nStatistiques des valeurs de players:\")\n",
    "print(all_players.describe())"
   ]
  },
  {
   "cell_type": "code",
   "execution_count": 48,
   "metadata": {},
   "outputs": [
    {
     "data": {
      "image/png": "[encoded data removed]",
      "text/plain": [
       "<Figure size 1200x600 with 1 Axes>"
      ]
     },
     "metadata": {},
     "output_type": "display_data"
    },
    {
     "name": "stdout",
     "output_type": "stream",
     "text": [
      "\n",
      "Statistiques des valeurs de timestamps:\n",
      "count    664398.000000\n",
      "mean        650.706956\n",
      "std         502.615702\n",
      "min           5.000000\n",
      "25%         275.000000\n",
      "50%         560.000000\n",
      "75%         905.000000\n",
      "max        5770.000000\n",
      "dtype: float64\n"
     ]
    }
   ],
   "source": [
    "## Distribution des timestamps\n",
    "import matplotlib.pyplot as plt\n",
    "import seaborn as sns\n",
    "import pandas as pd\n",
    "\n",
    "# Extraire tous les timestamps\n",
    "all_timestamps = []\n",
    "for _, row in features_train.iterrows():\n",
    "    timestamps = [int(x[1:]) for x in row if isinstance(x, str) and x.startswith('t') and x[1:].isdigit()]\n",
    "    all_timestamps.extend(timestamps)\n",
    "\n",
    "# Convertir en Series pandas pour faciliter l'analyse\n",
    "timestamp_series = pd.Series(all_timestamps)\n",
    "max_times = timestamp_series.max()\n",
    "bin_edges = np.arange(0, max_times + 5, 5)\n",
    "\n",
    "# Créer le graphique de distribution\n",
    "plt.figure(figsize=(12, 6))\n",
    "sns.histplot(data=timestamp_series, bins=bin_edges, kde=True)\n",
    "plt.title('Distribution des Valeurs de Timestamps')\n",
    "plt.xlabel('Temps (secondes)')\n",
    "plt.ylabel('Fréquence')\n",
    "# plt.xlim(0, timestamp_series.quantile(0.99))  # Limite l'axe x au 99e percentile pour une meilleure visibilité\n",
    "plt.show()\n",
    "\n",
    "# Afficher les statistiques récapitulatives\n",
    "print(\"\\nStatistiques des valeurs de timestamps:\")\n",
    "print(timestamp_series.describe())\n"
   ]
  },
  {
   "cell_type": "code",
   "execution_count": 14,
   "metadata": {},
   "outputs": [
    {
     "data": {
      "image/png": "[encoded data removed]",
      "text/plain": [
       "<Figure size 1200x600 with 1 Axes>"
      ]
     },
     "metadata": {},
     "output_type": "display_data"
    }
   ],
   "source": [
    "# Boxplot des timestamp pour visualiser les outliers\n",
    "plt.figure(figsize=(12, 6))\n",
    "sns.boxplot(x=timestamp_series)\n",
    "plt.title('Box Plot des Valeurs de Timestamps')\n",
    "plt.xlabel('Temps (secondes)')\n",
    "# plt.xlim(0, timestamp_series.quantile(0.99))  # Limite l'axe x au 99e percentile pour une meilleure visibilité\n",
    "plt.show()"
   ]
  },
  {
   "cell_type": "code",
   "execution_count": 50,
   "metadata": {},
   "outputs": [
    {
     "name": "stdout",
     "output_type": "stream",
     "text": [
      "Valeurs de timestamps >= 1850 :\n",
      "15909     1850\n",
      "15910     1855\n",
      "15911     1860\n",
      "15912     1865\n",
      "15913     1870\n",
      "          ... \n",
      "658631    2100\n",
      "658632    2105\n",
      "658633    2110\n",
      "658634    2115\n",
      "658635    2120\n",
      "Length: 16025, dtype: int64\n",
      "\n",
      "Nombre de valeurs de timestamps >= 1850 : 16025\n"
     ]
    },
    {
     "data": {
      "image/png": "[encoded data removed]",
      "text/plain": [
       "<Figure size 1200x600 with 1 Axes>"
      ]
     },
     "metadata": {},
     "output_type": "display_data"
    }
   ],
   "source": [
    "import matplotlib.pyplot as plt\n",
    "import seaborn as sns\n",
    "import pandas as pd\n",
    "\n",
    "# Filtrer les valeurs >= 1850\n",
    "high_timestamps = timestamp_series[timestamp_series >= 1850]\n",
    "\n",
    "# Afficher les résultats\n",
    "print(f\"Valeurs de timestamps >= 1850 :\")\n",
    "print(high_timestamps)\n",
    "\n",
    "# Optionnel : Afficher le nombre de valeurs filtrées\n",
    "print(f\"\\nNombre de valeurs de timestamps >= 1850 : {len(high_timestamps)}\")\n",
    "bin_edges = np.arange(0, high_timestamps.max() + 5, 5)\n",
    "\n",
    "# Visualiser ces valeurs avec un boxplot ou histogramme si nécessaire\n",
    "plt.figure(figsize=(12, 6))\n",
    "sns.histplot(data=high_timestamps, bins=bin_edges, kde=True)\n",
    "plt.title('Distribution des Valeurs de Timestamps >= 1850')\n",
    "plt.xlabel('Temps (secondes)')\n",
    "plt.ylabel('Fréquence')\n",
    "plt.show()"
   ]
  },
  {
   "cell_type": "code",
   "execution_count": 16,
   "metadata": {},
   "outputs": [
    {
     "name": "stdout",
     "output_type": "stream",
     "text": [
      "Périodes entre chaque paire de timestamps :\n",
      "1         5.0\n",
      "2         5.0\n",
      "3         5.0\n",
      "4         5.0\n",
      "5         5.0\n",
      "         ... \n",
      "138670    5.0\n",
      "138671    5.0\n",
      "138672    5.0\n",
      "138673    5.0\n",
      "138674    5.0\n",
      "Length: 1153, dtype: float64\n",
      "\n",
      "Période moyenne entre les timestamps : 5.00 secondes\n"
     ]
    }
   ],
   "source": [
    "# Calculer les périodes entre chaque paire de timestamps\n",
    "\n",
    "# Supprimer les doublons\n",
    "unique_timestamps = timestamp_series.drop_duplicates()\n",
    "if len(unique_timestamps) > 1:\n",
    "    # Trier les timestamps pour s'assurer que nous calculons les distances correctement\n",
    "    sorted_timestamps = unique_timestamps.sort_values()\n",
    "    periods = sorted_timestamps.diff().dropna()  # Calcule la différence entre chaque timestamp consécutif\n",
    "else:\n",
    "    periods = pd.Series([])  # Pas assez de données pour calculer les périodes\n",
    "\n",
    "# Afficher les périodes\n",
    "print(\"Périodes entre chaque paire de timestamps :\")\n",
    "print(periods)\n",
    "\n",
    "# Afficher la période moyenne entre les timestamps\n",
    "if not periods.empty:\n",
    "    average_period = periods.mean()\n",
    "    print(f\"\\nPériode moyenne entre les timestamps : {average_period:.2f} secondes\")\n",
    "else:\n",
    "    print(\"\\nAucune période à afficher.\")\n"
   ]
  },
  {
   "cell_type": "code",
   "execution_count": 17,
   "metadata": {},
   "outputs": [
    {
     "data": {
      "image/png": "[encoded data removed]",
      "text/plain": [
       "<Figure size 1000x600 with 1 Axes>"
      ]
     },
     "metadata": {},
     "output_type": "display_data"
    },
    {
     "name": "stdout",
     "output_type": "stream",
     "text": [
      "\n",
      "Statistiques du nombre de timestamps:\n",
      "count    3052.000000\n",
      "mean      217.692661\n",
      "std        95.167388\n",
      "min         0.000000\n",
      "25%       157.000000\n",
      "50%       204.000000\n",
      "75%       262.000000\n",
      "max      1154.000000\n",
      "dtype: float64\n"
     ]
    }
   ],
   "source": [
    "## Distribution du nombre de timestamps par joueurs\n",
    "\n",
    "import matplotlib.pyplot as plt\n",
    "import seaborn as sns\n",
    "\n",
    "# Compte le nombre de timestamps par ligne\n",
    "timestamp_counts = features_train.apply(\n",
    "    lambda row: sum(1 for x in row if isinstance(x, str) and x.startswith('t')), \n",
    "    axis=1\n",
    ")\n",
    "\n",
    "# Crée le graphique de distribution\n",
    "plt.figure(figsize=(10, 6))\n",
    "sns.histplot(data=timestamp_counts, bins=50)\n",
    "plt.title('Distribution du Nombre de Timestamps par Partie')\n",
    "plt.xlabel('Nombre de Timestamps')\n",
    "plt.ylabel('Fréquence')\n",
    "plt.show()\n",
    "\n",
    "# Affiche les statistiques récapitulatives\n",
    "print(\"\\nStatistiques du nombre de timestamps:\")\n",
    "print(timestamp_counts.describe())\n"
   ]
  },
  {
   "cell_type": "code",
   "execution_count": 18,
   "metadata": {
    "execution": {
     "iopub.execute_input": "2025-01-03T16:55:12.658769Z",
     "iopub.status.busy": "2025-01-03T16:55:12.658394Z",
     "iopub.status.idle": "2025-01-03T16:55:13.712063Z",
     "shell.execute_reply": "2025-01-03T16:55:13.710917Z",
     "shell.execute_reply.started": "2025-01-03T16:55:12.658728Z"
    },
    "trusted": true
   },
   "outputs": [
    {
     "name": "stdout",
     "output_type": "stream",
     "text": [
      "Affichage des 10 premières parties anormales (≤ 0 timestamps):\n",
      "                                           battleneturl played_race     0  \\\n",
      "46    http://eu.battle.net/sc2/en/profile/3538115/1/...        Zerg  Base   \n",
      "577   http://us.battle.net/sc2/en/profile/3202227/1/...        Zerg   NaN   \n",
      "578   http://us.battle.net/sc2/en/profile/2553612/1/...     Protoss   NaN   \n",
      "671   http://us.battle.net/sc2/en/profile/5376901/1/...        Zerg   NaN   \n",
      "672   http://us.battle.net/sc2/en/profile/3985949/1/...      Terran   NaN   \n",
      "678   http://us.battle.net/sc2/en/profile/4589387/1/...        Zerg   NaN   \n",
      "679   http://us.battle.net/sc2/en/profile/3985949/1/...      Terran   NaN   \n",
      "1883  http://us.battle.net/sc2/en/profile/3949344/1/...      Terran   NaN   \n",
      "1884  http://us.battle.net/sc2/en/profile/3650249/1/...     Protoss   NaN   \n",
      "3011  http://xx.battle.net/sc2/en/profile/401/1/Soul...        Zerg     s   \n",
      "\n",
      "        1    2     3         4         5    6         7  ... 10527 10528  \\\n",
      "46      s    s     s  hotkey10      Base    s  hotkey60  ...   NaN   NaN   \n",
      "577   NaN  NaN   NaN       NaN       NaN  NaN       NaN  ...   NaN   NaN   \n",
      "578   NaN  NaN   NaN       NaN       NaN  NaN       NaN  ...   NaN   NaN   \n",
      "671   NaN  NaN   NaN       NaN       NaN  NaN       NaN  ...   NaN   NaN   \n",
      "672   NaN  NaN   NaN       NaN       NaN  NaN       NaN  ...   NaN   NaN   \n",
      "678   NaN  NaN   NaN       NaN       NaN  NaN       NaN  ...   NaN   NaN   \n",
      "679   NaN  NaN   NaN       NaN       NaN  NaN       NaN  ...   NaN   NaN   \n",
      "1883  NaN  NaN   NaN       NaN       NaN  NaN       NaN  ...   NaN   NaN   \n",
      "1884  NaN  NaN   NaN       NaN       NaN  NaN       NaN  ...   NaN   NaN   \n",
      "3011    s    s  Base         s  hotkey40  NaN       NaN  ...   NaN   NaN   \n",
      "\n",
      "     10529 10530 10531 10532 10533 10534 10535 10536  \n",
      "46     NaN   NaN   NaN   NaN   NaN   NaN   NaN   NaN  \n",
      "577    NaN   NaN   NaN   NaN   NaN   NaN   NaN   NaN  \n",
      "578    NaN   NaN   NaN   NaN   NaN   NaN   NaN   NaN  \n",
      "671    NaN   NaN   NaN   NaN   NaN   NaN   NaN   NaN  \n",
      "672    NaN   NaN   NaN   NaN   NaN   NaN   NaN   NaN  \n",
      "678    NaN   NaN   NaN   NaN   NaN   NaN   NaN   NaN  \n",
      "679    NaN   NaN   NaN   NaN   NaN   NaN   NaN   NaN  \n",
      "1883   NaN   NaN   NaN   NaN   NaN   NaN   NaN   NaN  \n",
      "1884   NaN   NaN   NaN   NaN   NaN   NaN   NaN   NaN  \n",
      "3011   NaN   NaN   NaN   NaN   NaN   NaN   NaN   NaN  \n",
      "\n",
      "[10 rows x 10539 columns]\n",
      "\n",
      "Nombre total de parties anormales : 10\n",
      "\n",
      "Statistiques des parties anormales:\n",
      "count    10.0\n",
      "mean      0.0\n",
      "std       0.0\n",
      "min       0.0\n",
      "25%       0.0\n",
      "50%       0.0\n",
      "75%       0.0\n",
      "max       0.0\n",
      "dtype: float64\n",
      "-------------------------------------------------------\n",
      "                                         battleneturl played_race     0  1  2  \\\n",
      "45  http://eu.battle.net/sc2/en/profile/3973341/1/...     Protoss  Base  s  s   \n",
      "\n",
      "       3  4         5         6         7  ... 10527 10528 10529 10530 10531  \\\n",
      "45  Base  s  hotkey20  hotkey30  hotkey60  ...   NaN   NaN   NaN   NaN   NaN   \n",
      "\n",
      "   10532 10533 10534 10535 10536  \n",
      "45   NaN   NaN   NaN   NaN   NaN  \n",
      "\n",
      "[1 rows x 10539 columns]\n"
     ]
    }
   ],
   "source": [
    "# Trouver les lignes sans timestamps\n",
    "\n",
    "# Définir un seuil pour les parties anormales (par exemple, moins de 0 ou timestamps)\n",
    "seuil_parties_anormales = 0\n",
    "\n",
    "# Filtrer les parties anormales\n",
    "parties_anormales = features_train[timestamp_counts <= seuil_parties_anormales]\n",
    "\n",
    "# Afficher les 10 premières parties anormales\n",
    "print(f\"Affichage des {min(10, len(parties_anormales))} premières parties anormales (≤ {seuil_parties_anormales} timestamps):\")\n",
    "print(parties_anormales.head(10))\n",
    "\n",
    "# Afficher le nombre total de parties anormales\n",
    "print(f\"\\nNombre total de parties anormales : {len(parties_anormales)}\")\n",
    "\n",
    "# Optionnel : afficher les statistiques des parties anormales\n",
    "print(\"\\nStatistiques des parties anormales:\")\n",
    "print(timestamp_counts[timestamp_counts <= seuil_parties_anormales].describe())\n",
    "print(\"-------------------------------------------------------\")\n",
    "print(features_train[timestamp_counts == 1]) # une seule ligne avec une timestamp: ligne 45\n"
   ]
  },
  {
   "cell_type": "code",
   "execution_count": 19,
   "metadata": {},
   "outputs": [
    {
     "name": "stdout",
     "output_type": "stream",
     "text": [
      "Colonne contenant le timestamp : 13\n",
      "Valeur du timestamp : t5\n"
     ]
    }
   ],
   "source": [
    "# Sélectionner la ligne d'indice 45\n",
    "row = features_train.iloc[45]\n",
    "\n",
    "# Trouver la colonne contenant une valeur txx\n",
    "timestamp_column = next((col for col, val in row.items() if isinstance(val, str) and val.startswith('t')), None)\n",
    "\n",
    "if timestamp_column:\n",
    "    print(f\"Colonne contenant le timestamp : {timestamp_column}\")\n",
    "    print(f\"Valeur du timestamp : {row[timestamp_column]}\")\n",
    "else:\n",
    "    print(\"Aucune colonne contenant un timestamp trouvée dans cette ligne.\")\n"
   ]
  },
  {
   "cell_type": "code",
   "execution_count": 20,
   "metadata": {},
   "outputs": [
    {
     "name": "stdout",
     "output_type": "stream",
     "text": [
      "Séquences valides train: 3034/3052 (99.41%)\n",
      "---------------------------------------------------------------------\n"
     ]
    }
   ],
   "source": [
    "from typing import List\n",
    "import pandas as pd\n",
    "\n",
    "def check_timestamps(actions: List[str]) -> bool:\n",
    "    \"\"\"\n",
    "    Vérifie si la séquence de timestamps dans les actions est valide.\n",
    "    \n",
    "    Critères de validité :\n",
    "    - Doit commencer par t5\n",
    "    - Doit s'incrémenter de 5 à chaque fois (t5, t10, t15, etc.)\n",
    "    - Le dernier timestamp doit être entre 250 et 4000\n",
    "    \n",
    "    Args:\n",
    "        actions: Liste d'actions incluant les timestamps\n",
    "        \n",
    "    Returns:\n",
    "        bool: True si la séquence est valide, False sinon\n",
    "    \"\"\"\n",
    "    timestamps = [action for action in actions if isinstance(action, str) and action.startswith('t')]\n",
    "    \n",
    "    if not timestamps or timestamps[0] != 't5':\n",
    "        return False\n",
    "    \n",
    "    for i in range(1, len(timestamps)):\n",
    "        prev_time = int(timestamps[i-1][1:])\n",
    "        curr_time = int(timestamps[i][1:])\n",
    "        if curr_time != prev_time + 5:\n",
    "            return False\n",
    "    \n",
    "    last_time = int(timestamps[-1][1:])\n",
    "    return 50 <= last_time <= 6000 # 250, 4000\n",
    "\n",
    "def validate_game_sequence(row):\n",
    "    \"\"\"Valide une séquence de jeu unique du DataFrame\"\"\"\n",
    "    actions = [x for x in row if pd.notna(x)]\n",
    "    return check_timestamps(actions)\n",
    "\n",
    "# Application au DataFrame train\n",
    "valid_sequences_train = features_train.apply(validate_game_sequence, axis=1)\n",
    "print(f\"Séquences valides train: {valid_sequences_train.sum()}/{len(features_train)} ({valid_sequences_train.mean()*100:.2f}%)\")\n",
    "\n",
    "# Affichage des séquences invalides\n",
    "invalid_sequences_train = features_train[~valid_sequences_train]\n",
    "print(\"---------------------------------------------------------------------\")\n",
    "# print(\"sequences invalides: \")\n",
    "# print(invalid_sequences)\n",
    "\n",
    "\n",
    "# Pas de cleaning pour le DataFrame test\n",
    "\n"
   ]
  },
  {
   "cell_type": "code",
   "execution_count": 21,
   "metadata": {},
   "outputs": [
    {
     "name": "stdout",
     "output_type": "stream",
     "text": [
      "\n",
      "DataFrame nettoyé (lignes valides) :\n",
      "                                        battleneturl played_race     0     1  \\\n",
      "0  http://eu.battle.net/sc2/en/profile/4234852/1/...     Protoss  Base     s   \n",
      "1  http://eu.battle.net/sc2/en/profile/3074362/1/...     Protoss     s  Base   \n",
      "2  http://eu.battle.net/sc2/en/profile/4234852/1/...     Protoss  Base     s   \n",
      "3  http://eu.battle.net/sc2/en/profile/3074362/1/...     Protoss  Base     s   \n",
      "4  http://eu.battle.net/sc2/en/profile/4234852/1/...     Protoss  Base     s   \n",
      "\n",
      "   2     3     4  5         6         7  ... 10527 10528 10529 10530 10531  \\\n",
      "0  s     s     s  s        t5      Base  ...   NaN   NaN   NaN   NaN   NaN   \n",
      "1  s     s  Base  s         s      Base  ...   NaN   NaN   NaN   NaN   NaN   \n",
      "2  s     s  Base  s  hotkey30  hotkey00  ...   NaN   NaN   NaN   NaN   NaN   \n",
      "3  s  Base     s  s         s        t5  ...   NaN   NaN   NaN   NaN   NaN   \n",
      "4  s     s  Base  s  hotkey30  hotkey00  ...   NaN   NaN   NaN   NaN   NaN   \n",
      "\n",
      "  10532 10533 10534 10535 10536  \n",
      "0   NaN   NaN   NaN   NaN   NaN  \n",
      "1   NaN   NaN   NaN   NaN   NaN  \n",
      "2   NaN   NaN   NaN   NaN   NaN  \n",
      "3   NaN   NaN   NaN   NaN   NaN  \n",
      "4   NaN   NaN   NaN   NaN   NaN  \n",
      "\n",
      "[5 rows x 10539 columns]\n",
      "(3034, 10539)\n"
     ]
    }
   ],
   "source": [
    "# Afficher le DataFrame nettoyé\n",
    "cleaned_features_train = features_train[valid_sequences_train]\n",
    "print(\"\\nDataFrame nettoyé (lignes valides) :\")\n",
    "print(cleaned_features_train.head())\n",
    "print(cleaned_features_train.shape)"
   ]
  },
  {
   "cell_type": "markdown",
   "metadata": {},
   "source": [
    "### Getting features...\n",
    "\n",
    "Building a mini framework to read our Dataframe and convert it to features.\n",
    "\n",
    "Now we will create features out of the dataset.\n",
    "\n",
    "FeaturesGetter iterates over an ActionsDataLoader (yield every actions between two 't[xx]') and apply a set of Feature contained in a FeaturePool. At the end, it gets metrics over the values registered by each features in the feature pool."
   ]
  },
  {
   "cell_type": "code",
   "execution_count": 22,
   "metadata": {
    "execution": {
     "iopub.execute_input": "2025-01-03T16:55:13.713615Z",
     "iopub.status.busy": "2025-01-03T16:55:13.713229Z",
     "iopub.status.idle": "2025-01-03T16:55:13.718317Z",
     "shell.execute_reply": "2025-01-03T16:55:13.717234Z",
     "shell.execute_reply.started": "2025-01-03T16:55:13.713573Z"
    },
    "trusted": true
   },
   "outputs": [],
   "source": [
    "class CancelBatchException(Exception):\n",
    "    \"\"\"Used to cancel processing of a batch of data (when the keystroke sequence is fully read)\"\"\""
   ]
  },
  {
   "cell_type": "code",
   "execution_count": 23,
   "metadata": {
    "execution": {
     "iopub.execute_input": "2025-01-03T16:55:13.768867Z",
     "iopub.status.busy": "2025-01-03T16:55:13.768507Z",
     "iopub.status.idle": "2025-01-03T16:55:13.792121Z",
     "shell.execute_reply": "2025-01-03T16:55:13.790899Z",
     "shell.execute_reply.started": "2025-01-03T16:55:13.768832Z"
    },
    "trusted": true
   },
   "outputs": [],
   "source": [
    "class Feature:\n",
    "    def __init__(\n",
    "        self, name: str, \n",
    "        lambda_: Callable[[List[str]], Union[int, float]]=None, \n",
    "        val_count: int=None, \n",
    "        max_iter: int=None, \n",
    "        predicate: Callable[[List[str]], bool]=None, \n",
    "        metric: Callable[[List[str]], Union[int, float]]=mean, \n",
    "        div: bool=True\n",
    "    ):\n",
    "        \"\"\"If neither lambda_, val_count nor predicate are defined, the _lambda will just be the length of the given action range.\n",
    "\n",
    "        Args:\n",
    "            name (str): feature name\n",
    "            lambda_ (Callable[[List[str]], Union[int, float]], optional): \n",
    "                lambda that'll be applied to compute metric value over action ranges. Defaults to None.\n",
    "            val_count (int, optional): set feature's lambda to be the count of this value (if lambda_ is None). Defaults to None.\n",
    "            max_iter (int, optional): when exceeding this iteration, the feature will no longer be computed. Defaults to None.\n",
    "            predicate (Callable[[List[str]], bool], optional): define a predicate to compute lambda across one \n",
    "                action range (if lambda_ and val_count is None). Defaults to None.\n",
    "            metric (Callable[[List[str]], Union[int, float]], optional): the metric used to aggregate feature's \n",
    "                values across all ranges. Defaults to mean.\n",
    "            div (bool, optional): whether to divide the aggregated metric value. Defaults to True.\n",
    "        \"\"\"\n",
    "        self.name, self.metric, self.max_iter, self.div = name, metric, max_iter, div\n",
    "        self.reset()\n",
    "        self._lambda: Callable[[List[str]], Union[int, float]]\n",
    "        if   lambda_   is not None: \n",
    "            self._lambda = lambda_\n",
    "        elif val_count is not None: \n",
    "            self._lambda = lambda x: x.count(val_count)\n",
    "        elif predicate is not None: \n",
    "            self._lambda = lambda x: sum(1 for o in x if predicate(o))\n",
    "        else: \n",
    "            self._lambda = lambda x: len(x)\n",
    "    \n",
    "    def reset(self):\n",
    "        \"\"\"Resets the value of the feature\n",
    "        \"\"\"\n",
    "        self.vals: List[Union[int, float]] = []\n",
    "        self.val, self.i = 0, 0\n",
    "        \n",
    "    def __call__(self, rng: List[str], *args):\n",
    "        \"\"\"Compute feature's value according to _lambda, for given action range. Extra *args are given to _lambda\n",
    "\n",
    "        Args:\n",
    "            rng (List[str]): range of action (given by ActionDataLoader)\n",
    "        \"\"\"\n",
    "        if self.max_iter is None or self.i < self.max_iter:\n",
    "            self.val = self._lambda(rng, *args)\n",
    "            self.vals.append(self.val)\n",
    "            self.i += 1\n",
    "            \n",
    "    @property\n",
    "    def value(self) -> int | float:\n",
    "        \"\"\"Returns:\n",
    "            int | float: the aggregated feature's value across all action ranges read until now\n",
    "        \"\"\"\n",
    "        return self.metric(self.vals)"
   ]
  },
  {
   "cell_type": "code",
   "execution_count": 24,
   "metadata": {},
   "outputs": [],
   "source": [
    "class ActionsDataLoader:\n",
    "    \"\"\"Iterates over two 'tXX', yielding actions between each time steps\n",
    "    \"\"\"\n",
    "    def __init__(self, actions: pd.DataFrame, do_range: bool = True, max_t: Optional[int]=None):\n",
    "        \"\"\"Args:\n",
    "            actions (List[Feature]): The raw dataframe\n",
    "            do_range (bool): whether the data loader should iterate and yield each range \n",
    "                between two 'tXX', or just yield the whole sequence once then return. Defaults to True.\n",
    "            max_t (Optional[int], optional): the t max to stop yielding. Defaults to None.\n",
    "        \"\"\"\n",
    "        self.t_indx = [0] + [j for j, val in enumerate(actions) if isinstance(val, str) and val[0] == \"t\"]\n",
    "        self.do_range = do_range\n",
    "        if max_t and max_t < len(self.t_indx):\n",
    "            self.t_indx = self.t_indx[:max_t]\n",
    "            self.values = actions.values[: self.t_indx[max_t - 1]]\n",
    "        else: \n",
    "            self.values = actions.values\n",
    "        self.n_t = len(self.t_indx)\n",
    "    \n",
    "    def __len__(self): return 1 if self.do_range else (self.n_t or 1)\n",
    "    \n",
    "    def __iter__(self):\n",
    "        if self.n_t == 0 or not self.do_range:\n",
    "            self.start_indx = 0\n",
    "            self.end_indx = self._get_first_nan_indx()\n",
    "            yield self.values[self.start_indx:self.end_indx].tolist()\n",
    "            return \n",
    "        for self.i in range(self.n_t):\n",
    "            try:\n",
    "                self._get_actions_range()\n",
    "                yield self.values[self.start_indx:self.end_indx].tolist()\n",
    "            except CancelBatchException: \n",
    "                return\n",
    "\n",
    "    def _get_actions_range(self):\n",
    "        \"\"\"Computes the action range until a 'tXX' is met. If there are no more 'tXX', \n",
    "            it means we reached the end of the game, and the sequences finish with NaN \n",
    "            (or for the longest game, the full row is read).\n",
    "\n",
    "        Raises:\n",
    "            CancelBatchException: indicates that there is no more action to be read (next action is NaN).\n",
    "        \"\"\"\n",
    "        self.start_indx = self.t_indx[self.i] + (1 if self.i >0 else 0)\n",
    "        if  self.start_indx >= len(self.values) or pd.isna(self.values[self.start_indx]): \n",
    "            raise CancelBatchException\n",
    "        self.end_indx = self.t_indx[self.i + 1] if (self.i + 1) < self.n_t else self._get_first_nan_indx()\n",
    "    \n",
    "    def _get_first_nan_indx(self) -> int:\n",
    "        \"\"\"Returns:\n",
    "            int: the first index in values that is not NaN\n",
    "        \"\"\"\n",
    "        nans = np.argwhere(pd.isna(self.values[self.start_indx:]))\n",
    "        return len(self.values) if len(nans) == 0 else nans[0][0]\n",
    "    \n",
    "    def get_max_t(self):\n",
    "        \"\"\"Gets the last 'tXX' defined. If this data loader was defined with max_t not None, it returns this max_t\n",
    "        \"\"\"\n",
    "        if self.n_t - 1 == 0:\n",
    "            return 0\n",
    "        return int(self.values[self.t_indx[self.n_t - 1]][1:]) if self.n_t > 0 else 0"
   ]
  },
  {
   "cell_type": "code",
   "execution_count": 25,
   "metadata": {
    "execution": {
     "iopub.execute_input": "2025-01-03T16:55:13.721365Z",
     "iopub.status.busy": "2025-01-03T16:55:13.721010Z",
     "iopub.status.idle": "2025-01-03T16:55:13.742731Z",
     "shell.execute_reply": "2025-01-03T16:55:13.741384Z",
     "shell.execute_reply.started": "2025-01-03T16:55:13.721334Z"
    },
    "trusted": true
   },
   "outputs": [],
   "source": [
    "class FeaturesGetter:\n",
    "    def __init__(self, features: List[Feature], n_rows: int=3052, log: bool=False, **kwargs_dataloader):\n",
    "        \"\"\"Args:\n",
    "            features (List[Feature]): the list of features to compute\n",
    "            n_rows (int, optional): the number of row (used only in log). Defaults to 3052.\n",
    "            log (bool, optional): whether to output log information when processing the df. Defaults to False.\n",
    "\n",
    "            Accepts extra kwargs_dataloader that'll be passed to the dataloader\n",
    "        \"\"\"\n",
    "        self.feature_pool, self.n_rows, self.log, self.kwargs_dataloader = features, n_rows, log, kwargs_dataloader\n",
    "        self.game_l: int # game length\n",
    "        self.reset()\n",
    "        \n",
    "    def reset(self):\n",
    "        \"\"\"Resets the value of each feature in the feature pool\"\"\"\n",
    "        for feature in self.feature_pool: \n",
    "            feature.reset()\n",
    "        self.game_l = 0\n",
    "    \n",
    "    def _log(self):\n",
    "        \"\"\"Print to stdout the current % of the df that have been processed\"\"\"\n",
    "        global cnt\n",
    "        cnt += 1\n",
    "        print(f\"{cnt * 100 / self.n_rows:.2f} %\", end=\"\\r\")\n",
    "    \n",
    "    def _one_update(self):\n",
    "        \"\"\"Compute each feature's value for one batch (one action range yielded by the ActionDataLoader)\"\"\"\n",
    "        for feature in self.feature_pool: \n",
    "            feature(self.actions_rng)\n",
    "        \n",
    "    def __call__(self, actions: pd.DataFrame) -> pd.Series:\n",
    "        \"\"\"Computes all features' values for each of the given actions, iterating over ADL with parameters defined in __init__\n",
    "        \n",
    "        Returns:\n",
    "            pd.Series: the features' values as a Series. \n",
    "                Adds an extra feature which is the game length is max_t is not in __init__ kwargs\n",
    "        \"\"\"\n",
    "        self.reset()\n",
    "        if self.log:\n",
    "            self._log()\n",
    "        adl = ActionsDataLoader(actions, **self.kwargs_dataloader)\n",
    "        for self.actions_rng in adl:\n",
    "            self._one_update()\n",
    "        activs = [f.value / len(adl) if f.div else f.value for f in self.feature_pool]\n",
    "        self.game_l = (max_t := self.kwargs_dataloader.get(\"max_t\", None)) or adl.get_max_t()\n",
    "        return pd.Series( activs + ([self.game_l] if max_t is None else []) )"
   ]
  },
  {
   "cell_type": "markdown",
   "metadata": {},
   "source": [
    "Defining lambdas to convert dataset to features\n",
    "We create basic features, corresponding to the mean of each action played per timestamp plus the mean of all actions together"
   ]
  },
  {
   "cell_type": "code",
   "execution_count": 26,
   "metadata": {
    "execution": {
     "iopub.execute_input": "2025-01-03T16:55:13.793923Z",
     "iopub.status.busy": "2025-01-03T16:55:13.793524Z",
     "iopub.status.idle": "2025-01-03T16:55:13.819750Z",
     "shell.execute_reply": "2025-01-03T16:55:13.818657Z",
     "shell.execute_reply.started": "2025-01-03T16:55:13.793889Z"
    },
    "trusted": true
   },
   "outputs": [],
   "source": [
    "FEATURES_NAMES = [\"s_mean\", \"base_mean\", \"mineral_mean\", \"hotkeys_mean\", \"actions_mean\"]\n",
    "ACTIONS = [ \"s\", \"Base\", \"SingleMineral\", \"hotkey\" ]\n",
    "\n",
    "def get_base_features() -> List[Feature]:\n",
    "    \"\"\"Defines base features (mean of count of each action / hotkeys)\n",
    "    \"\"\"\n",
    "    features = []\n",
    "    for i, action in enumerate(ACTIONS[:-1]):\n",
    "        features.append(Feature(FEATURES_NAMES[i], val_count=action))\n",
    "    features.append(Feature(FEATURES_NAMES[-2], predicate=lambda x: x.startswith(ACTIONS[-1]))) # hotkeys\n",
    "    features.append(Feature(FEATURES_NAMES[-1])) # all actions combined (no lambda_ means lambda_ is just the length)\n",
    "    for i, j in product(range(10), range(3)):\n",
    "        pass\n",
    "    #TODO\n",
    "        # OTHER FEATURES HERE\n",
    "    # OTHER FEATURES HERE\n",
    "    # Guess what would be useful ?\n",
    "    # set div, metric and lambda_ accordingly\n",
    "    return features\n",
    "\n",
    "# Avec ces features de base f1 à 0.33 et accuracy à 0.35"
   ]
  },
  {
   "cell_type": "code",
   "execution_count": 27,
   "metadata": {},
   "outputs": [],
   "source": [
    "### Features v2\n",
    "from itertools import product\n",
    "from collections import Counter\n",
    "import numpy as np\n",
    "\n",
    "def get_base_features() -> List[Feature]:\n",
    "    \"\"\"Defines base features and additional features to better identify players\"\"\"\n",
    "    features = []\n",
    "    \n",
    "    # Base features\n",
    "    for i, action in enumerate(ACTIONS[:-1]):\n",
    "        features.append(Feature(FEATURES_NAMES[i], val_count=action))\n",
    "    features.append(Feature(FEATURES_NAMES[-2], predicate=lambda x: x.startswith(ACTIONS[-1]))) # hotkeys\n",
    "    features.append(Feature(FEATURES_NAMES[-1])) # all actions combined (no lambda_ means lambda_ is just the length)\n",
    "    \n",
    "    # APM (Actions Per Minute)\n",
    "    # features.append(Feature(\"apm\", lambda x: len(x) / (int(x[-1][1:]) / 60) if x and x[-1].startswith('t') else 0, div=False))\n",
    "    \n",
    "    # Hotkey, base, s, mineral usage ratio\n",
    "    features.append(Feature(\"hotkey_ratio\", lambda x: sum(1 for action in x if isinstance(action, str) and action.startswith('hotkey')) / len(x) if x else 0, div=False))\n",
    "    features.append(Feature(\"Base_ratio\", lambda x: sum(1 for action in x if isinstance(action, str) and action.startswith('Base')) / len(x) if x else 0, div=False))\n",
    "    features.append(Feature(\"s_ratio\", lambda x: sum(1 for action in x if isinstance(action, str) and action.startswith('s')) / len(x) if x else 0, div=False))\n",
    "    features.append(Feature(\"mineral_ratio\", lambda x: sum(1 for action in x if isinstance(action, str) and action.startswith('SingleMineral')) / len(x) if x else 0, div=False))\n",
    "    \n",
    "    # Action variety\n",
    "    features.append(Feature(\"action_variety\", lambda x: len(set(x)) / len(x) if x else 0, div=False))\n",
    "    \n",
    "    # Economic vs Military actions ratio\n",
    "    def eco_military_ratio(x):\n",
    "        if not x:\n",
    "            return 0\n",
    "        eco = sum(1 for action in x if isinstance(action, str) and action in ['Base', 'SingleMineral'])\n",
    "        military = sum(1 for action in x if isinstance(action, str) and action not in ['Base', 'SingleMineral', 's'] and not action.startswith('t'))\n",
    "        return eco / (military + 1e-5)\n",
    "    features.append(Feature(\"eco_military_ratio\", eco_military_ratio, div=False))\n",
    "    \n",
    "    # Action change frequency\n",
    "    def action_change_frequency(x):\n",
    "        if not x:\n",
    "            return 0\n",
    "        changes = sum(1 for i in range(1, len(x)) if x[i] != x[i-1])\n",
    "        return changes / len(x)\n",
    "    features.append(Feature(\"action_change_frequency\", action_change_frequency, div=False))\n",
    "    \n",
    "    # Specific hotkey usage\n",
    "    for i in range(10):\n",
    "        features.append(Feature(f\"hotkey{i}_usage\", lambda x, i=i: sum(1 for action in x if isinstance(action, str) and action.startswith(f'hotkey{i}'))))\n",
    "    \n",
    "    # Average time between actions\n",
    "    # def avg_time_between_actions(x):\n",
    "    #     times = [int(action[1:]) for action in x if isinstance(action, str) and action.startswith('t')]\n",
    "    #     return np.mean(np.diff(times)) if len(times) > 1 else 0\n",
    "    # features.append(Feature(\"avg_time_between_actions\", avg_time_between_actions, div=False))\n",
    "    \n",
    "    return features\n"
   ]
  },
  {
   "cell_type": "code",
   "execution_count": 28,
   "metadata": {},
   "outputs": [],
   "source": [
    "### Features v3\n",
    "# Add specific hotkey usage\n",
    "from itertools import product\n",
    "from collections import Counter\n",
    "import numpy as np\n",
    "\n",
    "def get_base_features() -> List[Feature]:\n",
    "    \"\"\"Defines base features and additional features to better identify players\"\"\"\n",
    "    features = []\n",
    "    \n",
    "    # Base features\n",
    "    for i, action in enumerate(ACTIONS[:-1]):\n",
    "        features.append(Feature(FEATURES_NAMES[i], val_count=action))\n",
    "    features.append(Feature(FEATURES_NAMES[-2], predicate=lambda x: x.startswith(ACTIONS[-1]))) # hotkeys\n",
    "    features.append(Feature(FEATURES_NAMES[-1])) # all actions combined (no lambda_ means lambda_ is just the length)\n",
    "    \n",
    "    \n",
    "    # Hotkey usage ratio\n",
    "    features.append(Feature(\"hotkey_ratio\", lambda x: sum(1 for action in x if isinstance(action, str) and action.startswith('hotkey')) / len(x) if x else 0, div=False))\n",
    "    features.append(Feature(\"Base_ratio\", lambda x: sum(1 for action in x if isinstance(action, str) and action.startswith('Base')) / len(x) if x else 0, div=False))\n",
    "    features.append(Feature(\"s_ratio\", lambda x: sum(1 for action in x if isinstance(action, str) and action.startswith('s')) / len(x) if x else 0, div=False))\n",
    "    features.append(Feature(\"mineral_ratio\", lambda x: sum(1 for action in x if isinstance(action, str) and action.startswith('SingleMineral')) / len(x) if x else 0, div=False))\n",
    "    \n",
    "    \n",
    "    # Action variety\n",
    "    features.append(Feature(\"action_variety\", lambda x: len(set(x)) / len(x) if x else 0, div=False))\n",
    "    \n",
    "    # Hotkey vs Normal actions ratio\n",
    "    def normal_hotkey_ratio(x):\n",
    "        if not x:\n",
    "            return 0\n",
    "        hotkeys = sum(1 for action in x if isinstance(action, str) and action.startswith('t'))\n",
    "        normal = sum(1 for action in x if isinstance(action, str) and not action.startswith('t'))\n",
    "        return eco / (military + 1e-5)\n",
    "    features.append(Feature(\"normal_hotkey_ratio\", normal_hotkey_ratio, div=False))\n",
    "    \n",
    "    # Action change frequency\n",
    "    def action_change_frequency(x):\n",
    "        if not x:\n",
    "            return 0\n",
    "        changes = sum(1 for i in range(1, len(x)) if x[i] != x[i-1])\n",
    "        return changes / len(x)\n",
    "    features.append(Feature(\"action_change_frequency\", action_change_frequency, div=False))\n",
    "    \n",
    "    # Specific hotkey usage\n",
    "    for i in range(10):\n",
    "        features.append(Feature(f\"hotkey{i}_usage\", lambda x, i=i: sum(1 for action in x if isinstance(action, str) and action.startswith(f'hotkey{i}'))))\n",
    "    \n",
    "    \n",
    "    # New Features: Ones Digit of Hotkeys\n",
    "    for digit in range(10):\n",
    "        for value in range(3):  # 0=created, 1=updated, 2=used\n",
    "            def hotkey_digit_value_ratio(x, digit=digit, value=value):\n",
    "                if not x:\n",
    "                    return 0\n",
    "                hotkeys = [action for action in x if isinstance(action, str) and action.startswith('hotkey')]\n",
    "                count = sum(1 for hotkey in hotkeys if int(hotkey[-2]) == digit and int(hotkey[-1]) == value)\n",
    "                return count / len(hotkeys) if hotkeys else 0\n",
    "            features.append(Feature(f\"hotkey{digit}_value{value}_ratio\", hotkey_digit_value_ratio, div=False))\n",
    "    \n",
    "    return features\n"
   ]
  },
  {
   "cell_type": "markdown",
   "metadata": {},
   "source": [
    "Now it's ready to be put into a function that'll get all the features from the initial dataframe and return a new dataframe containing only those features. FeaturesGetter gets one extra feature from that we created, which is max_time, corresponding to the \"xx\" of the last \"txx\" seen."
   ]
  },
  {
   "cell_type": "code",
   "execution_count": 29,
   "metadata": {
    "execution": {
     "iopub.execute_input": "2025-01-03T16:55:13.821292Z",
     "iopub.status.busy": "2025-01-03T16:55:13.820913Z",
     "iopub.status.idle": "2025-01-03T16:55:13.844551Z",
     "shell.execute_reply": "2025-01-03T16:55:13.842925Z",
     "shell.execute_reply.started": "2025-01-03T16:55:13.821256Z"
    },
    "trusted": true
   },
   "outputs": [],
   "source": [
    "features_getter = None\n",
    "def create_features(\n",
    "    df: pd.DataFrame, \n",
    "    min_: int, \n",
    "    max_: int, \n",
    "    drop: bool=False, \n",
    "    features: List[Feature]=get_base_features(), \n",
    "    **kwargs\n",
    ") -> pd.DataFrame:\n",
    "    \"\"\"Compute features on given dataframe\n",
    "\n",
    "    Args:\n",
    "        df (pd.DataFrame)\n",
    "        min_ (int): index of the first action to pass to the feature\n",
    "        max_ (int): index of the last action to pass to the feature\n",
    "        drop (bool, optional): whether to drop original columns of the dataframe. Defaults to False.\n",
    "        features (List[Feature], optional). Defaults to get_base_features().\n",
    "\n",
    "    Returns:\n",
    "        pd.DataFrame: a dataframe containing features' values for each row\n",
    "    \"\"\"\n",
    "    global features_getter\n",
    "    features_getter = FeaturesGetter(features, **kwargs)\n",
    "    final_df = df.loc[:,min_:max_].apply(features_getter, axis=1, result_type='expand')\n",
    "    final_df.columns = [f.name for f in features_getter.feature_pool] + ([\"max_time\"] if not kwargs.get(\"max_t\") else [])\n",
    "    if drop:\n",
    "        df = df.drop(columns=[i for i in range(min_, max_ + 1)])\n",
    "    final_df = pd.concat([df, final_df], axis=1)\n",
    "    features_getter.reset()\n",
    "    return final_df"
   ]
  },
  {
   "cell_type": "markdown",
   "metadata": {},
   "source": [
    "### Handling string\n",
    "The race_played column can only take three values; instead of converting it to categorical as we did with our dependent variable, we will instead convert it to dummy variables: we one-hot encode each race. It will not add many columns to our dataframe (only three) but will allow the decision trees to split much faster on the race (on only one binary split)."
   ]
  },
  {
   "cell_type": "code",
   "execution_count": 30,
   "metadata": {
    "execution": {
     "iopub.execute_input": "2025-01-03T16:55:13.845825Z",
     "iopub.status.busy": "2025-01-03T16:55:13.845491Z",
     "iopub.status.idle": "2025-01-03T16:55:13.874662Z",
     "shell.execute_reply": "2025-01-03T16:55:13.873395Z",
     "shell.execute_reply.started": "2025-01-03T16:55:13.845795Z"
    },
    "trusted": true
   },
   "outputs": [],
   "source": [
    "def get_dummies(df: pd.DataFrame):\n",
    "    \"\"\"Converts textual columns to one-hot encoded vectors (one column per possible value)\"\"\"\n",
    "    df = pd.get_dummies(df, columns=[\"played_race\"])\n",
    "    return df"
   ]
  },
  {
   "cell_type": "markdown",
   "metadata": {},
   "source": [
    "Function preprocess creates a pipeline of all the function we just implemented: it create the features, converts the race to dummy variables and the dependent variable to category codes."
   ]
  },
  {
   "cell_type": "code",
   "execution_count": 31,
   "metadata": {
    "execution": {
     "iopub.execute_input": "2025-01-03T16:55:13.876319Z",
     "iopub.status.busy": "2025-01-03T16:55:13.875931Z",
     "iopub.status.idle": "2025-01-03T16:55:13.895928Z",
     "shell.execute_reply": "2025-01-03T16:55:13.894611Z",
     "shell.execute_reply.started": "2025-01-03T16:55:13.876270Z"
    },
    "trusted": true
   },
   "outputs": [],
   "source": [
    "def preprocess(df: pd.DataFrame, min_: int, max_: int, is_train: bool=True, convert_race: bool=True, **kwargs):\n",
    "    \"\"\"Calls FeatureGetter on the dataframe, applying preprocessing steps before\n",
    "    Args:\n",
    "        df (pd.DataFrame)\n",
    "        min_ (int)\n",
    "        max_ (int)\n",
    "        is_train (bool, optional): whether the current dataframe contains training data \n",
    "            (to preprocess dependent variable or not). Defaults to True.\n",
    "        convert_race (bool, optional): whether to convert race attribute to dummies. Defaults to True.\n",
    "\n",
    "    Returns:\n",
    "        _type_: _description_\n",
    "    \"\"\"\n",
    "    df = create_features(df, min_, max_, **kwargs)\n",
    "    if convert_race: \n",
    "        df = get_dummies(df)\n",
    "    df.columns = df.columns.astype(str)\n",
    "    if is_train:\n",
    "        url_code_matching = to_categories(df)\n",
    "        return (df, url_code_matching)\n",
    "    return df"
   ]
  },
  {
   "cell_type": "code",
   "execution_count": 32,
   "metadata": {
    "execution": {
     "iopub.execute_input": "2025-01-03T16:55:13.897589Z",
     "iopub.status.busy": "2025-01-03T16:55:13.897163Z",
     "iopub.status.idle": "2025-01-03T16:55:43.137764Z",
     "shell.execute_reply": "2025-01-03T16:55:43.136556Z",
     "shell.execute_reply.started": "2025-01-03T16:55:13.897548Z"
    },
    "trusted": true
   },
   "outputs": [
    {
     "name": "stdout",
     "output_type": "stream",
     "text": [
      "CPU times: total: 1min 19s\n",
      "Wall time: 1min 21s\n"
     ]
    },
    {
     "data": {
      "text/html": [
       "<div>\n",
       "<style scoped>\n",
       "    .dataframe tbody tr th:only-of-type {\n",
       "        vertical-align: middle;\n",
       "    }\n",
       "\n",
       "    .dataframe tbody tr th {\n",
       "        vertical-align: top;\n",
       "    }\n",
       "\n",
       "    .dataframe thead th {\n",
       "        text-align: right;\n",
       "    }\n",
       "</style>\n",
       "<table border=\"1\" class=\"dataframe\">\n",
       "  <thead>\n",
       "    <tr style=\"text-align: right;\">\n",
       "      <th></th>\n",
       "      <th>battleneturl</th>\n",
       "      <th>s_mean</th>\n",
       "      <th>base_mean</th>\n",
       "      <th>mineral_mean</th>\n",
       "      <th>hotkeys_mean</th>\n",
       "      <th>actions_mean</th>\n",
       "      <th>hotkey_ratio</th>\n",
       "      <th>Base_ratio</th>\n",
       "      <th>s_ratio</th>\n",
       "      <th>mineral_ratio</th>\n",
       "      <th>...</th>\n",
       "      <th>hotkey8_value0_ratio</th>\n",
       "      <th>hotkey8_value1_ratio</th>\n",
       "      <th>hotkey8_value2_ratio</th>\n",
       "      <th>hotkey9_value0_ratio</th>\n",
       "      <th>hotkey9_value1_ratio</th>\n",
       "      <th>hotkey9_value2_ratio</th>\n",
       "      <th>max_time</th>\n",
       "      <th>played_race_Protoss</th>\n",
       "      <th>played_race_Terran</th>\n",
       "      <th>played_race_Zerg</th>\n",
       "    </tr>\n",
       "  </thead>\n",
       "  <tbody>\n",
       "    <tr>\n",
       "      <th>0</th>\n",
       "      <td>53</td>\n",
       "      <td>2.036254</td>\n",
       "      <td>0.199396</td>\n",
       "      <td>0.015106</td>\n",
       "      <td>4.492447</td>\n",
       "      <td>6.743202</td>\n",
       "      <td>0.660472</td>\n",
       "      <td>0.017780</td>\n",
       "      <td>0.283678</td>\n",
       "      <td>0.001816</td>\n",
       "      <td>...</td>\n",
       "      <td>0.000000</td>\n",
       "      <td>0.0</td>\n",
       "      <td>0.000000</td>\n",
       "      <td>0.002392</td>\n",
       "      <td>0.0</td>\n",
       "      <td>0.000000</td>\n",
       "      <td>1655.0</td>\n",
       "      <td>True</td>\n",
       "      <td>False</td>\n",
       "      <td>False</td>\n",
       "    </tr>\n",
       "    <tr>\n",
       "      <th>1</th>\n",
       "      <td>29</td>\n",
       "      <td>1.620482</td>\n",
       "      <td>0.036145</td>\n",
       "      <td>0.000000</td>\n",
       "      <td>4.596386</td>\n",
       "      <td>6.253012</td>\n",
       "      <td>0.709817</td>\n",
       "      <td>0.005881</td>\n",
       "      <td>0.260205</td>\n",
       "      <td>0.000000</td>\n",
       "      <td>...</td>\n",
       "      <td>0.000602</td>\n",
       "      <td>0.0</td>\n",
       "      <td>0.010194</td>\n",
       "      <td>0.000602</td>\n",
       "      <td>0.0</td>\n",
       "      <td>0.010874</td>\n",
       "      <td>1655.0</td>\n",
       "      <td>True</td>\n",
       "      <td>False</td>\n",
       "      <td>False</td>\n",
       "    </tr>\n",
       "    <tr>\n",
       "      <th>2</th>\n",
       "      <td>53</td>\n",
       "      <td>2.128713</td>\n",
       "      <td>0.232673</td>\n",
       "      <td>0.014851</td>\n",
       "      <td>4.297030</td>\n",
       "      <td>6.673267</td>\n",
       "      <td>0.647709</td>\n",
       "      <td>0.022472</td>\n",
       "      <td>0.298835</td>\n",
       "      <td>0.001281</td>\n",
       "      <td>...</td>\n",
       "      <td>0.000000</td>\n",
       "      <td>0.0</td>\n",
       "      <td>0.000000</td>\n",
       "      <td>0.001697</td>\n",
       "      <td>0.0</td>\n",
       "      <td>0.002063</td>\n",
       "      <td>1010.0</td>\n",
       "      <td>True</td>\n",
       "      <td>False</td>\n",
       "      <td>False</td>\n",
       "    </tr>\n",
       "    <tr>\n",
       "      <th>3</th>\n",
       "      <td>29</td>\n",
       "      <td>1.965347</td>\n",
       "      <td>0.103960</td>\n",
       "      <td>0.000000</td>\n",
       "      <td>4.787129</td>\n",
       "      <td>6.856436</td>\n",
       "      <td>0.699131</td>\n",
       "      <td>0.013035</td>\n",
       "      <td>0.282883</td>\n",
       "      <td>0.000000</td>\n",
       "      <td>...</td>\n",
       "      <td>0.000000</td>\n",
       "      <td>0.0</td>\n",
       "      <td>0.000000</td>\n",
       "      <td>0.001238</td>\n",
       "      <td>0.0</td>\n",
       "      <td>0.014299</td>\n",
       "      <td>1005.0</td>\n",
       "      <td>True</td>\n",
       "      <td>False</td>\n",
       "      <td>False</td>\n",
       "    </tr>\n",
       "    <tr>\n",
       "      <th>4</th>\n",
       "      <td>53</td>\n",
       "      <td>1.925926</td>\n",
       "      <td>0.018519</td>\n",
       "      <td>0.000000</td>\n",
       "      <td>3.787037</td>\n",
       "      <td>5.731481</td>\n",
       "      <td>0.669150</td>\n",
       "      <td>0.002315</td>\n",
       "      <td>0.310016</td>\n",
       "      <td>0.000000</td>\n",
       "      <td>...</td>\n",
       "      <td>0.000000</td>\n",
       "      <td>0.0</td>\n",
       "      <td>0.000000</td>\n",
       "      <td>0.000000</td>\n",
       "      <td>0.0</td>\n",
       "      <td>0.000000</td>\n",
       "      <td>540.0</td>\n",
       "      <td>True</td>\n",
       "      <td>False</td>\n",
       "      <td>False</td>\n",
       "    </tr>\n",
       "  </tbody>\n",
       "</table>\n",
       "<p>5 rows × 57 columns</p>\n",
       "</div>"
      ],
      "text/plain": [
       "   battleneturl    s_mean  base_mean  mineral_mean  hotkeys_mean  \\\n",
       "0            53  2.036254   0.199396      0.015106      4.492447   \n",
       "1            29  1.620482   0.036145      0.000000      4.596386   \n",
       "2            53  2.128713   0.232673      0.014851      4.297030   \n",
       "3            29  1.965347   0.103960      0.000000      4.787129   \n",
       "4            53  1.925926   0.018519      0.000000      3.787037   \n",
       "\n",
       "   actions_mean  hotkey_ratio  Base_ratio   s_ratio  mineral_ratio  ...  \\\n",
       "0      6.743202      0.660472    0.017780  0.283678       0.001816  ...   \n",
       "1      6.253012      0.709817    0.005881  0.260205       0.000000  ...   \n",
       "2      6.673267      0.647709    0.022472  0.298835       0.001281  ...   \n",
       "3      6.856436      0.699131    0.013035  0.282883       0.000000  ...   \n",
       "4      5.731481      0.669150    0.002315  0.310016       0.000000  ...   \n",
       "\n",
       "   hotkey8_value0_ratio  hotkey8_value1_ratio  hotkey8_value2_ratio  \\\n",
       "0              0.000000                   0.0              0.000000   \n",
       "1              0.000602                   0.0              0.010194   \n",
       "2              0.000000                   0.0              0.000000   \n",
       "3              0.000000                   0.0              0.000000   \n",
       "4              0.000000                   0.0              0.000000   \n",
       "\n",
       "   hotkey9_value0_ratio  hotkey9_value1_ratio  hotkey9_value2_ratio  max_time  \\\n",
       "0              0.002392                   0.0              0.000000    1655.0   \n",
       "1              0.000602                   0.0              0.010874    1655.0   \n",
       "2              0.001697                   0.0              0.002063    1010.0   \n",
       "3              0.001238                   0.0              0.014299    1005.0   \n",
       "4              0.000000                   0.0              0.000000     540.0   \n",
       "\n",
       "   played_race_Protoss  played_race_Terran  played_race_Zerg  \n",
       "0                 True               False             False  \n",
       "1                 True               False             False  \n",
       "2                 True               False             False  \n",
       "3                 True               False             False  \n",
       "4                 True               False             False  \n",
       "\n",
       "[5 rows x 57 columns]"
      ]
     },
     "execution_count": 32,
     "metadata": {},
     "output_type": "execute_result"
    }
   ],
   "source": [
    "%%time\n",
    "cnt=0\n",
    "(processed_train_df, url_code_matching) = preprocess(cleaned_features_train, 0, cleaned_features_train.shape[1]-3, drop=True, n_rows=3020, log=True) \n",
    "processed_train_df.head()"
   ]
  },
  {
   "cell_type": "code",
   "execution_count": 33,
   "metadata": {},
   "outputs": [
    {
     "data": {
      "text/plain": [
       "'http://eu.battle.net/sc2/en/profile/4234852/1/First/'"
      ]
     },
     "execution_count": 33,
     "metadata": {},
     "output_type": "execute_result"
    }
   ],
   "source": [
    "url_code_matching[53]"
   ]
  },
  {
   "cell_type": "code",
   "execution_count": 34,
   "metadata": {},
   "outputs": [
    {
     "data": {
      "text/plain": [
       "(3034, 57)"
      ]
     },
     "execution_count": 34,
     "metadata": {},
     "output_type": "execute_result"
    }
   ],
   "source": [
    "processed_train_df.shape"
   ]
  },
  {
   "cell_type": "code",
   "execution_count": 35,
   "metadata": {},
   "outputs": [
    {
     "name": "stdout",
     "output_type": "stream",
     "text": [
      "after process\n",
      "CPU times: total: 8.36 s\n",
      "Wall time: 8.64 s\n"
     ]
    },
    {
     "data": {
      "text/html": [
       "<div>\n",
       "<style scoped>\n",
       "    .dataframe tbody tr th:only-of-type {\n",
       "        vertical-align: middle;\n",
       "    }\n",
       "\n",
       "    .dataframe tbody tr th {\n",
       "        vertical-align: top;\n",
       "    }\n",
       "\n",
       "    .dataframe thead th {\n",
       "        text-align: right;\n",
       "    }\n",
       "</style>\n",
       "<table border=\"1\" class=\"dataframe\">\n",
       "  <thead>\n",
       "    <tr style=\"text-align: right;\">\n",
       "      <th></th>\n",
       "      <th>6816</th>\n",
       "      <th>s_mean</th>\n",
       "      <th>base_mean</th>\n",
       "      <th>mineral_mean</th>\n",
       "      <th>hotkeys_mean</th>\n",
       "      <th>actions_mean</th>\n",
       "      <th>hotkey_ratio</th>\n",
       "      <th>Base_ratio</th>\n",
       "      <th>s_ratio</th>\n",
       "      <th>mineral_ratio</th>\n",
       "      <th>...</th>\n",
       "      <th>hotkey8_value0_ratio</th>\n",
       "      <th>hotkey8_value1_ratio</th>\n",
       "      <th>hotkey8_value2_ratio</th>\n",
       "      <th>hotkey9_value0_ratio</th>\n",
       "      <th>hotkey9_value1_ratio</th>\n",
       "      <th>hotkey9_value2_ratio</th>\n",
       "      <th>max_time</th>\n",
       "      <th>played_race_Protoss</th>\n",
       "      <th>played_race_Terran</th>\n",
       "      <th>played_race_Zerg</th>\n",
       "    </tr>\n",
       "  </thead>\n",
       "  <tbody>\n",
       "    <tr>\n",
       "      <th>0</th>\n",
       "      <td>NaN</td>\n",
       "      <td>4.784091</td>\n",
       "      <td>0.107955</td>\n",
       "      <td>0.017045</td>\n",
       "      <td>13.585227</td>\n",
       "      <td>18.494318</td>\n",
       "      <td>0.716101</td>\n",
       "      <td>0.006326</td>\n",
       "      <td>0.265592</td>\n",
       "      <td>0.000618</td>\n",
       "      <td>...</td>\n",
       "      <td>0.000000</td>\n",
       "      <td>0.0</td>\n",
       "      <td>0.000000</td>\n",
       "      <td>0.003220</td>\n",
       "      <td>0.0</td>\n",
       "      <td>0.014125</td>\n",
       "      <td>875.0</td>\n",
       "      <td>False</td>\n",
       "      <td>False</td>\n",
       "      <td>True</td>\n",
       "    </tr>\n",
       "    <tr>\n",
       "      <th>1</th>\n",
       "      <td>NaN</td>\n",
       "      <td>2.868687</td>\n",
       "      <td>0.000000</td>\n",
       "      <td>0.000000</td>\n",
       "      <td>8.277778</td>\n",
       "      <td>11.146465</td>\n",
       "      <td>0.664641</td>\n",
       "      <td>0.000000</td>\n",
       "      <td>0.320207</td>\n",
       "      <td>0.000000</td>\n",
       "      <td>...</td>\n",
       "      <td>0.000000</td>\n",
       "      <td>0.0</td>\n",
       "      <td>0.000000</td>\n",
       "      <td>0.000297</td>\n",
       "      <td>0.0</td>\n",
       "      <td>0.035519</td>\n",
       "      <td>985.0</td>\n",
       "      <td>False</td>\n",
       "      <td>True</td>\n",
       "      <td>False</td>\n",
       "    </tr>\n",
       "    <tr>\n",
       "      <th>2</th>\n",
       "      <td>NaN</td>\n",
       "      <td>2.297521</td>\n",
       "      <td>0.082645</td>\n",
       "      <td>0.000000</td>\n",
       "      <td>12.070248</td>\n",
       "      <td>14.450413</td>\n",
       "      <td>0.818070</td>\n",
       "      <td>0.005846</td>\n",
       "      <td>0.176084</td>\n",
       "      <td>0.000000</td>\n",
       "      <td>...</td>\n",
       "      <td>0.002045</td>\n",
       "      <td>0.0</td>\n",
       "      <td>0.021781</td>\n",
       "      <td>0.000000</td>\n",
       "      <td>0.0</td>\n",
       "      <td>0.000000</td>\n",
       "      <td>1210.0</td>\n",
       "      <td>True</td>\n",
       "      <td>False</td>\n",
       "      <td>False</td>\n",
       "    </tr>\n",
       "    <tr>\n",
       "      <th>3</th>\n",
       "      <td>NaN</td>\n",
       "      <td>5.401361</td>\n",
       "      <td>0.057823</td>\n",
       "      <td>0.006803</td>\n",
       "      <td>4.785714</td>\n",
       "      <td>10.251701</td>\n",
       "      <td>0.452230</td>\n",
       "      <td>0.006206</td>\n",
       "      <td>0.520448</td>\n",
       "      <td>0.000709</td>\n",
       "      <td>...</td>\n",
       "      <td>0.000000</td>\n",
       "      <td>0.0</td>\n",
       "      <td>0.000000</td>\n",
       "      <td>0.000000</td>\n",
       "      <td>0.0</td>\n",
       "      <td>0.000000</td>\n",
       "      <td>1470.0</td>\n",
       "      <td>False</td>\n",
       "      <td>False</td>\n",
       "      <td>True</td>\n",
       "    </tr>\n",
       "    <tr>\n",
       "      <th>4</th>\n",
       "      <td>NaN</td>\n",
       "      <td>1.787879</td>\n",
       "      <td>0.159091</td>\n",
       "      <td>0.000000</td>\n",
       "      <td>2.083333</td>\n",
       "      <td>4.030303</td>\n",
       "      <td>0.526587</td>\n",
       "      <td>0.032363</td>\n",
       "      <td>0.395595</td>\n",
       "      <td>0.000000</td>\n",
       "      <td>...</td>\n",
       "      <td>0.015152</td>\n",
       "      <td>0.0</td>\n",
       "      <td>0.001894</td>\n",
       "      <td>0.000000</td>\n",
       "      <td>0.0</td>\n",
       "      <td>0.000000</td>\n",
       "      <td>660.0</td>\n",
       "      <td>True</td>\n",
       "      <td>False</td>\n",
       "      <td>False</td>\n",
       "    </tr>\n",
       "  </tbody>\n",
       "</table>\n",
       "<p>5 rows × 57 columns</p>\n",
       "</div>"
      ],
      "text/plain": [
       "  6816    s_mean  base_mean  mineral_mean  hotkeys_mean  actions_mean  \\\n",
       "0  NaN  4.784091   0.107955      0.017045     13.585227     18.494318   \n",
       "1  NaN  2.868687   0.000000      0.000000      8.277778     11.146465   \n",
       "2  NaN  2.297521   0.082645      0.000000     12.070248     14.450413   \n",
       "3  NaN  5.401361   0.057823      0.006803      4.785714     10.251701   \n",
       "4  NaN  1.787879   0.159091      0.000000      2.083333      4.030303   \n",
       "\n",
       "   hotkey_ratio  Base_ratio   s_ratio  mineral_ratio  ...  \\\n",
       "0      0.716101    0.006326  0.265592       0.000618  ...   \n",
       "1      0.664641    0.000000  0.320207       0.000000  ...   \n",
       "2      0.818070    0.005846  0.176084       0.000000  ...   \n",
       "3      0.452230    0.006206  0.520448       0.000709  ...   \n",
       "4      0.526587    0.032363  0.395595       0.000000  ...   \n",
       "\n",
       "   hotkey8_value0_ratio  hotkey8_value1_ratio  hotkey8_value2_ratio  \\\n",
       "0              0.000000                   0.0              0.000000   \n",
       "1              0.000000                   0.0              0.000000   \n",
       "2              0.002045                   0.0              0.021781   \n",
       "3              0.000000                   0.0              0.000000   \n",
       "4              0.015152                   0.0              0.001894   \n",
       "\n",
       "   hotkey9_value0_ratio  hotkey9_value1_ratio  hotkey9_value2_ratio  max_time  \\\n",
       "0              0.003220                   0.0              0.014125     875.0   \n",
       "1              0.000297                   0.0              0.035519     985.0   \n",
       "2              0.000000                   0.0              0.000000    1210.0   \n",
       "3              0.000000                   0.0              0.000000    1470.0   \n",
       "4              0.000000                   0.0              0.000000     660.0   \n",
       "\n",
       "   played_race_Protoss  played_race_Terran  played_race_Zerg  \n",
       "0                False               False              True  \n",
       "1                False                True             False  \n",
       "2                 True               False             False  \n",
       "3                False               False              True  \n",
       "4                 True               False             False  \n",
       "\n",
       "[5 rows x 57 columns]"
      ]
     },
     "execution_count": 35,
     "metadata": {},
     "output_type": "execute_result"
    }
   ],
   "source": [
    "%%time\n",
    "cnt=0\n",
    "processed_test_df = preprocess(features_test, 0, features_test.shape[1]-3, is_train=False, drop=True, n_rows=340, log=True)\n",
    "\n",
    "print(\"after process\")\n",
    "processed_test_df.head()"
   ]
  },
  {
   "cell_type": "code",
   "execution_count": 36,
   "metadata": {},
   "outputs": [],
   "source": [
    "## Drop columns\n",
    "processed_train_df = processed_train_df.drop(columns=['max_time'])\n",
    "processed_test_df = processed_test_df.drop(columns=['max_time'])"
   ]
  },
  {
   "cell_type": "code",
   "execution_count": 37,
   "metadata": {},
   "outputs": [],
   "source": [
    "from sklearn.ensemble import AdaBoostClassifier\n",
    "from sklearn.ensemble import RandomForestClassifier\n",
    "from sklearn.tree import DecisionTreeClassifier\n",
    "from sklearn.linear_model import LogisticRegression\n",
    "from sklearn.model_selection import train_test_split\n",
    "from sklearn.metrics import f1_score, accuracy_score\n",
    "import pandas as pd\n",
    "import numpy as np\n",
    "\n",
    "from sklearn.svm import SVC\n",
    "from sklearn import metrics\n",
    "svc = SVC(probability=True, kernel='sigmoid')\n",
    "decision_tree = DecisionTreeClassifier(max_depth=29) #27 features => 13=27/2, 58 features => 58/2=29\n",
    "\n",
    "def train_model(X_train, y_train):\n",
    "    # model = RandomForestClassifier(n_estimators=116, random_state=42, max_features=None, max_depth=29)\n",
    "    # model = AdaBoostClassifier( estimator = svc, algorithm='SAMME',  n_estimators=27, learning_rate=0.3, random_state=42)\n",
    "    model = AdaBoostClassifier( estimator = decision_tree, algorithm='SAMME',  n_estimators=116, learning_rate=1.3, random_state=42)\n",
    "    model.fit(X_train, y_train)\n",
    "    return model\n",
    "\n",
    "def make_predictions(model, X):\n",
    "    return model.predict(X)\n",
    "\n",
    "def calculate_f1_score(y_true, y_pred):\n",
    "    return f1_score(y_true, y_pred, average='weighted') # [None, 'micro', 'macro', 'weighted'].\n"
   ]
  },
  {
   "cell_type": "markdown",
   "metadata": {},
   "source": [
    "## random forest classique\n",
    "model = RandomForestClassifier(n_estimators=100, random_state=50, max_features=None)\n",
    "scores validation : 0.87 et 0.88 mais 0.78 sur kaggle donc overfit\n",
    "\n",
    "## Changement de model vers Adaboost\n",
    "\n",
    "AdaBoost construit ses arbres séquentiellement, chaque nouvel arbre se concentrant sur les erreurs des précédents.\n",
    "Random Forest construit ses arbres indépendamment et en parallèle.\n",
    "\n",
    "AdaBoost attribue des poids différents aux arbres en fonction de leur performance.\n",
    "Random Forest donne un poids égal à tous les arbres pour la décision finale.\n",
    "\n",
    "Conclusion : Adaboost apprend des erreurs et modifie\n",
    "\n",
    "### base_estimator svc\n",
    "en utilisant les mêmes attributs que pour base_estimator decision tree\n",
    "kernel linear: prend du temps à entraîner(5min pour 27 estimateurs, 12min pour 54) pour un score de 0.02 et 0.03 pour 27, et 0.01 et 0.02 pour 54\n",
    "kernel 'rbf' (Radial Basis Function)=> Noyau gaussien(transforme l'espace en utilisant une fonction gaussienne) : pas ouf\n",
    "kernel 'poly' : pas ouf\n",
    "kernel 'sigmoid': pas ouf\n",
    "\n",
    "### base_estimator decision_tree\n",
    "j'ai essayé Adaboost classifier avec nos 27 features avec decision tree comme base_estimator\n",
    "j'ai joué avec un learning rate compris dans [0.1, 1], 0.3 est le meilleur\n",
    "max_depth = nb features / 2\n",
    "random state 42\n",
    "n_estimators = 27*2=54\n",
    "split train, validation : 0.2\n",
    "\n",
    "scores validation : 0.84 et 0.85 et 0.82 sur kaggle\n",
    "\n",
    "## Essaie de Random forest avec les mêmes valeurs trouvées pour Adaboost\n",
    "change les valeurs de n_estimators, random_state, max_features; et ajout de max_depth=13\n",
    "scores : 0.79 et 0.81\n",
    "\n",
    "## Tests avec les features ajoutés par Yikang\n",
    "\n",
    "58 features\n",
    "changer le max depth et n_estimators\n",
    "Adaboost score: 0.80\n",
    "RandomForest score: 0.86 0.87\n",
    "model = RandomForestClassifier(n_estimators=116, random_state=42, max_features=None, max_depth=29)\n",
    "\n",
    "## Essaie avec le dataset long"
   ]
  },
  {
   "cell_type": "code",
   "execution_count": 38,
   "metadata": {},
   "outputs": [],
   "source": [
    "# Fine Tuning\n",
    "from sklearn.metrics import classification_report \n",
    "from sklearn.model_selection import train_test_split \n",
    "import pandas as pd \n",
    "from sklearn.ensemble import RandomForestClassifier \n",
    "from sklearn.model_selection import GridSearchCV, RandomizedSearchCV \n"
   ]
  },
  {
   "cell_type": "code",
   "execution_count": 39,
   "metadata": {},
   "outputs": [
    {
     "data": {
      "text/plain": [
       "battleneturl\n",
       "131    58\n",
       "86     51\n",
       "73     50\n",
       "49     43\n",
       "66     42\n",
       "       ..\n",
       "139     4\n",
       "36      4\n",
       "132     4\n",
       "56      4\n",
       "192     4\n",
       "Name: count, Length: 200, dtype: int64"
      ]
     },
     "execution_count": 39,
     "metadata": {},
     "output_type": "execute_result"
    }
   ],
   "source": [
    "# Fine Tuning\n",
    "processed_train_df['battleneturl'].value_counts()"
   ]
  },
  {
   "cell_type": "code",
   "execution_count": 40,
   "metadata": {},
   "outputs": [],
   "source": [
    "# Fine Tuning\n",
    "param_grid = { \n",
    "\t'n_estimators': [25, 50, 100, 150], \n",
    "\t'max_features': ['sqrt', 'log2', None], \n",
    "\t'max_depth': [3, 6, 9], \n",
    "\t'max_leaf_nodes': [3, 6, 9], \n",
    "} "
   ]
  },
  {
   "cell_type": "code",
   "execution_count": 41,
   "metadata": {},
   "outputs": [],
   "source": [
    "# Diviser les données en ensembles d'entraînement et de validation\n",
    "X = processed_train_df.drop(columns=['battleneturl'])\n",
    "y = processed_train_df['battleneturl']\n",
    "X_train, X_val, y_train, y_val = train_test_split(X, y, test_size=0.2, random_state=42)\n",
    "\n",
    "# Entraîner le modèle\n",
    "model = train_model(X_train, y_train)"
   ]
  },
  {
   "cell_type": "code",
   "execution_count": 42,
   "metadata": {},
   "outputs": [],
   "source": [
    "# Fine Tuning\n",
    "# grid_search = GridSearchCV(RandomForestClassifier(), \n",
    "# \t\t\t\t\t\tparam_grid=param_grid) \n",
    "# grid_search.fit(X_train, y_train) \n",
    "# print(grid_search.best_estimator_)\n",
    "\n",
    "# Prend trop de temps et ma machine n'a pas de GPU"
   ]
  },
  {
   "cell_type": "code",
   "execution_count": 43,
   "metadata": {},
   "outputs": [
    {
     "name": "stdout",
     "output_type": "stream",
     "text": [
      "['s_mean', 'base_mean', 'mineral_mean', 'hotkeys_mean', 'actions_mean', 'hotkey_ratio', 'Base_ratio', 's_ratio', 'mineral_ratio', 'action_variety', 'eco_military_ratio', 'action_change_frequency', 'hotkey0_usage', 'hotkey1_usage', 'hotkey2_usage', 'hotkey3_usage', 'hotkey4_usage', 'hotkey5_usage', 'hotkey6_usage', 'hotkey7_usage', 'hotkey8_usage', 'hotkey9_usage', 'hotkey0_value0_ratio', 'hotkey0_value1_ratio', 'hotkey0_value2_ratio', 'hotkey1_value0_ratio', 'hotkey1_value1_ratio', 'hotkey1_value2_ratio', 'hotkey2_value0_ratio', 'hotkey2_value1_ratio', 'hotkey2_value2_ratio', 'hotkey3_value0_ratio', 'hotkey3_value1_ratio', 'hotkey3_value2_ratio', 'hotkey4_value0_ratio', 'hotkey4_value1_ratio', 'hotkey4_value2_ratio', 'hotkey5_value0_ratio', 'hotkey5_value1_ratio', 'hotkey5_value2_ratio', 'hotkey6_value0_ratio', 'hotkey6_value1_ratio', 'hotkey6_value2_ratio', 'hotkey7_value0_ratio', 'hotkey7_value1_ratio', 'hotkey7_value2_ratio', 'hotkey8_value0_ratio', 'hotkey8_value1_ratio', 'hotkey8_value2_ratio', 'hotkey9_value0_ratio', 'hotkey9_value1_ratio', 'hotkey9_value2_ratio', 'played_race_Protoss', 'played_race_Terran', 'played_race_Zerg']\n",
      "                    Feature  Gini Importance\n",
      "15            hotkey3_usage         0.058256\n",
      "31     hotkey3_value0_ratio         0.048386\n",
      "0                    s_mean         0.036911\n",
      "17            hotkey5_usage         0.035846\n",
      "25     hotkey1_value0_ratio         0.034747\n",
      "27     hotkey1_value2_ratio         0.033219\n",
      "16            hotkey4_usage         0.031108\n",
      "33     hotkey3_value2_ratio         0.030471\n",
      "37     hotkey5_value0_ratio         0.029073\n",
      "19            hotkey7_usage         0.028738\n",
      "10       eco_military_ratio         0.027714\n",
      "29     hotkey2_value1_ratio         0.026928\n",
      "4              actions_mean         0.025694\n",
      "36     hotkey4_value2_ratio         0.023559\n",
      "23     hotkey0_value1_ratio         0.022820\n",
      "28     hotkey2_value0_ratio         0.022420\n",
      "5              hotkey_ratio         0.021819\n",
      "18            hotkey6_usage         0.021742\n",
      "49     hotkey9_value0_ratio         0.021397\n",
      "13            hotkey1_usage         0.021165\n",
      "46     hotkey8_value0_ratio         0.019356\n",
      "11  action_change_frequency         0.019041\n",
      "48     hotkey8_value2_ratio         0.018484\n",
      "9            action_variety         0.017188\n",
      "38     hotkey5_value1_ratio         0.016755\n",
      "45     hotkey7_value2_ratio         0.016652\n",
      "7                   s_ratio         0.015723\n",
      "2              mineral_mean         0.015567\n",
      "14            hotkey2_usage         0.015525\n",
      "1                 base_mean         0.015372\n",
      "26     hotkey1_value1_ratio         0.014946\n",
      "22     hotkey0_value0_ratio         0.014916\n",
      "34     hotkey4_value0_ratio         0.014245\n",
      "12            hotkey0_usage         0.013379\n",
      "21            hotkey9_usage         0.013139\n",
      "44     hotkey7_value1_ratio         0.012857\n",
      "30     hotkey2_value2_ratio         0.012073\n",
      "24     hotkey0_value2_ratio         0.012005\n",
      "3              hotkeys_mean         0.011676\n",
      "6                Base_ratio         0.011599\n",
      "8             mineral_ratio         0.011090\n",
      "32     hotkey3_value1_ratio         0.010606\n",
      "20            hotkey8_usage         0.010582\n",
      "39     hotkey5_value2_ratio         0.010538\n",
      "51     hotkey9_value2_ratio         0.009684\n",
      "35     hotkey4_value1_ratio         0.009563\n",
      "42     hotkey6_value2_ratio         0.009255\n",
      "40     hotkey6_value0_ratio         0.007421\n",
      "47     hotkey8_value1_ratio         0.006272\n",
      "43     hotkey7_value0_ratio         0.004632\n",
      "41     hotkey6_value1_ratio         0.003800\n",
      "54         played_race_Zerg         0.002219\n",
      "50     hotkey9_value1_ratio         0.001211\n",
      "52      played_race_Protoss         0.000374\n",
      "53       played_race_Terran         0.000242\n"
     ]
    }
   ],
   "source": [
    "feature_names = X.columns.to_list()\n",
    "print(feature_names)\n",
    "\n",
    "importances = model.feature_importances_\n",
    "feature_imp_df = pd.DataFrame({'Feature': feature_names, 'Gini Importance': importances}).sort_values('Gini Importance', ascending=False) \n",
    "print(feature_imp_df)"
   ]
  },
  {
   "cell_type": "code",
   "execution_count": 44,
   "metadata": {},
   "outputs": [
    {
     "data": {
      "image/png": "[encoded data removed]",
      "text/plain": [
       "<Figure size 800x400 with 1 Axes>"
      ]
     },
     "metadata": {},
     "output_type": "display_data"
    }
   ],
   "source": [
    "import matplotlib.pyplot as plt\n",
    "\n",
    "plt.figure(figsize=(8, 4))\n",
    "plt.barh(feature_names, importances, color='skyblue')\n",
    "plt.xlabel('Gini Importance')\n",
    "plt.title('Feature Importance - Gini Importance')\n",
    "plt.gca().invert_yaxis()  # Invert y-axis for better visualization\n",
    "plt.show()"
   ]
  },
  {
   "cell_type": "code",
   "execution_count": 45,
   "metadata": {},
   "outputs": [
    {
     "name": "stdout",
     "output_type": "stream",
     "text": [
      "F1-score sur l'ensemble de validation : 0.87\n",
      "Accuracy sur l'ensemble de validation : 0.88\n"
     ]
    }
   ],
   "source": [
    "# Faire des prédictions sur l'ensemble de validation\n",
    "val_predictions = make_predictions(model, X_val)\n",
    "\n",
    "# Calculer le F1-score sur l'ensemble de validation\n",
    "f1 = calculate_f1_score(y_val, val_predictions)\n",
    "print(f\"F1-score sur l'ensemble de validation : {f1:.2f}\")\n",
    "\n",
    "accuracy = accuracy_score(y_val, val_predictions)\n",
    "print(f\"Accuracy sur l'ensemble de validation : {accuracy:.2f}\")"
   ]
  },
  {
   "cell_type": "code",
   "execution_count": 46,
   "metadata": {},
   "outputs": [],
   "source": [
    "# Préparer les données de test\n",
    "test_df = processed_test_df.drop(columns=[processed_test_df.columns[0], '6816'])\n",
    "\n",
    "# Faire des prédictions\n",
    "test_predictions = make_predictions(model, test_df)\n",
    "\n",
    "# Convertir les codes prédits en URLs\n",
    "url_predictions = [url_code_matching[code] for code in test_predictions]\n",
    "\n",
    "# Créer un DataFrame pour sauvegarder les résultats\n",
    "results_df = pd.DataFrame({\n",
    "    'RowId': range(1, len(url_predictions) + 1),\n",
    "    'prediction': url_predictions\n",
    "})\n",
    "\n",
    "# Sauvegarder les résultats\n",
    "# results_df.to_csv('predictions.csv', index=False)\n",
    "# print(\"Les prédictions ont été sauvegardées dans 'predictions.csv'.\")\n",
    "# Penser à supprimer la ligne de trop sur le csv"
   ]
  }
 ],
 "metadata": {
  "kaggle": {
   "accelerator": "none",
   "dataSources": [
    {
     "datasetId": 6399625,
     "sourceId": 10335289,
     "sourceType": "datasetVersion"
    }
   ],
   "dockerImageVersionId": 30822,
   "isGpuEnabled": false,
   "isInternetEnabled": true,
   "language": "python",
   "sourceType": "notebook"
  },
  "kernelspec": {
   "display_name": "Python 3",
   "language": "python",
   "name": "python3"
  },
  "language_info": {
   "codemirror_mode": {
    "name": "ipython",
    "version": 3
   },
   "file_extension": ".py",
   "mimetype": "text/x-python",
   "name": "python",
   "nbconvert_exporter": "python",
   "pygments_lexer": "ipython3",
   "version": "3.12.2"
  }
 },
 "nbformat": 4,
 "nbformat_minor": 4
}
